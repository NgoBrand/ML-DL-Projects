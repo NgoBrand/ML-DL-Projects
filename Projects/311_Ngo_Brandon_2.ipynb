{
 "cells": [
  {
   "cell_type": "code",
   "execution_count": 1,
   "id": "6edbdf96-ed2b-48ae-b3c5-2cb8ec6b68bd",
   "metadata": {},
   "outputs": [],
   "source": [
    "# Import libraries\n",
    "\n",
    "# Pandas for data handling\n",
    "import pandas # https://pandas.pydata.org/\n",
    "# from pandas.plotting import scatter_matrix\n",
    "\n",
    "# pretty tables\n",
    "from IPython.display import display\n",
    "\n",
    "# NumPy for numerical computing\n",
    "import numpy # https://numpy.org/\n",
    "\n",
    "# MatPlotLib+Seaborn for visualization\n",
    "import matplotlib.pyplot as pl  # https://matplotlib.org/\n",
    "import seaborn as sns\n",
    "\n",
    "# assessment\n",
    "from sklearn import model_selection # for model comparisons\n",
    "from sklearn.model_selection import GridSearchCV\n",
    "from sklearn.model_selection import train_test_split\n",
    "\n",
    "from sklearn.metrics import accuracy_score\n",
    "from sklearn.metrics import confusion_matrix\n",
    "from sklearn.metrics import classification_report\n",
    "from sklearn.metrics import cohen_kappa_score\n",
    "\n",
    "# algorithms\n",
    "from sklearn.linear_model import LogisticRegression\n",
    "from sklearn.svm import SVC\n",
    "from sklearn.neighbors import KNeighborsClassifier\n",
    "from sklearn.tree import DecisionTreeClassifier\n",
    "\n",
    "# data preprocessing / feature selection\n",
    "from sklearn.preprocessing import StandardScaler\n",
    "from sklearn.preprocessing import MinMaxScaler\n",
    "from sklearn.decomposition import PCA\n",
    "\n",
    "# combining\n",
    "from sklearn.pipeline import make_pipeline\n",
    "\n",
    "#########"
   ]
  },
  {
   "cell_type": "raw",
   "id": "2eaf60f7-ba87-48e3-85ad-2467707b8263",
   "metadata": {},
   "source": [
    "1. Load the dataset in the file named winequality_white.csv and produce at least one\n",
    "table and one graph that summarize the dataset statistics. Separate the data into\n",
    "training and testing datasets and set up a classification problem: predicting the\n",
    "quality value (a single variable with seven classes labeled 3, 4, 5, …, 9) based on\n",
    "the values of all the other variables in the file (acidity, alcohol, pH, etc.)."
   ]
  },
  {
   "cell_type": "code",
   "execution_count": 2,
   "id": "d2f8f5f3-34c6-4615-ab7c-881aa5a77dcc",
   "metadata": {},
   "outputs": [
    {
     "name": "stdout",
     "output_type": "stream",
     "text": [
      "Loading data from file ...\n",
      "done \n",
      "\n",
      "Removing rows with missing data ...\n",
      "done \n",
      "\n"
     ]
    }
   ],
   "source": [
    "print('Loading data from file ...')  # Now let's load the data\n",
    "dataset = pandas.read_csv('winequality-white.csv') # default is header=infer, change if column names are not in first row\n",
    "print('done \\n')\n",
    "\n",
    "print('Removing rows with missing data ...')  # Make things simple\n",
    "dataset = dataset.dropna()  # default is to drop any row that contains at least one missing value\n",
    "print('done \\n')"
   ]
  },
  {
   "cell_type": "code",
   "execution_count": 3,
   "id": "c1a14cb4-75e1-4cc1-88a4-27b784e27e1e",
   "metadata": {},
   "outputs": [
    {
     "name": "stdout",
     "output_type": "stream",
     "text": [
      "Summary of the dataset\n"
     ]
    },
    {
     "data": {
      "text/html": [
       "<div>\n",
       "<style scoped>\n",
       "    .dataframe tbody tr th:only-of-type {\n",
       "        vertical-align: middle;\n",
       "    }\n",
       "\n",
       "    .dataframe tbody tr th {\n",
       "        vertical-align: top;\n",
       "    }\n",
       "\n",
       "    .dataframe thead th {\n",
       "        text-align: right;\n",
       "    }\n",
       "</style>\n",
       "<table border=\"1\" class=\"dataframe\">\n",
       "  <thead>\n",
       "    <tr style=\"text-align: right;\">\n",
       "      <th></th>\n",
       "      <th>fixed acidity</th>\n",
       "      <th>volatile acidity</th>\n",
       "      <th>citric acid</th>\n",
       "      <th>residual sugar</th>\n",
       "      <th>chlorides</th>\n",
       "      <th>free sulfur dioxide</th>\n",
       "      <th>total sulfur dioxide</th>\n",
       "      <th>density</th>\n",
       "      <th>pH</th>\n",
       "      <th>sulphates</th>\n",
       "      <th>alcohol</th>\n",
       "      <th>quality</th>\n",
       "    </tr>\n",
       "  </thead>\n",
       "  <tbody>\n",
       "    <tr>\n",
       "      <th>count</th>\n",
       "      <td>4898.000000</td>\n",
       "      <td>4898.000000</td>\n",
       "      <td>4898.000000</td>\n",
       "      <td>4898.000000</td>\n",
       "      <td>4898.000000</td>\n",
       "      <td>4898.000000</td>\n",
       "      <td>4898.000000</td>\n",
       "      <td>4898.000000</td>\n",
       "      <td>4898.000000</td>\n",
       "      <td>4898.000000</td>\n",
       "      <td>4898.000000</td>\n",
       "      <td>4898.000000</td>\n",
       "    </tr>\n",
       "    <tr>\n",
       "      <th>mean</th>\n",
       "      <td>6.854788</td>\n",
       "      <td>0.278241</td>\n",
       "      <td>0.334192</td>\n",
       "      <td>6.391415</td>\n",
       "      <td>0.045772</td>\n",
       "      <td>35.308085</td>\n",
       "      <td>138.360657</td>\n",
       "      <td>0.994027</td>\n",
       "      <td>3.188267</td>\n",
       "      <td>0.489847</td>\n",
       "      <td>10.514267</td>\n",
       "      <td>5.877909</td>\n",
       "    </tr>\n",
       "    <tr>\n",
       "      <th>std</th>\n",
       "      <td>0.843868</td>\n",
       "      <td>0.100795</td>\n",
       "      <td>0.121020</td>\n",
       "      <td>5.072058</td>\n",
       "      <td>0.021848</td>\n",
       "      <td>17.007137</td>\n",
       "      <td>42.498065</td>\n",
       "      <td>0.002991</td>\n",
       "      <td>0.151001</td>\n",
       "      <td>0.114126</td>\n",
       "      <td>1.230621</td>\n",
       "      <td>0.885639</td>\n",
       "    </tr>\n",
       "    <tr>\n",
       "      <th>min</th>\n",
       "      <td>3.800000</td>\n",
       "      <td>0.080000</td>\n",
       "      <td>0.000000</td>\n",
       "      <td>0.600000</td>\n",
       "      <td>0.009000</td>\n",
       "      <td>2.000000</td>\n",
       "      <td>9.000000</td>\n",
       "      <td>0.987110</td>\n",
       "      <td>2.720000</td>\n",
       "      <td>0.220000</td>\n",
       "      <td>8.000000</td>\n",
       "      <td>3.000000</td>\n",
       "    </tr>\n",
       "    <tr>\n",
       "      <th>25%</th>\n",
       "      <td>6.300000</td>\n",
       "      <td>0.210000</td>\n",
       "      <td>0.270000</td>\n",
       "      <td>1.700000</td>\n",
       "      <td>0.036000</td>\n",
       "      <td>23.000000</td>\n",
       "      <td>108.000000</td>\n",
       "      <td>0.991723</td>\n",
       "      <td>3.090000</td>\n",
       "      <td>0.410000</td>\n",
       "      <td>9.500000</td>\n",
       "      <td>5.000000</td>\n",
       "    </tr>\n",
       "    <tr>\n",
       "      <th>50%</th>\n",
       "      <td>6.800000</td>\n",
       "      <td>0.260000</td>\n",
       "      <td>0.320000</td>\n",
       "      <td>5.200000</td>\n",
       "      <td>0.043000</td>\n",
       "      <td>34.000000</td>\n",
       "      <td>134.000000</td>\n",
       "      <td>0.993740</td>\n",
       "      <td>3.180000</td>\n",
       "      <td>0.470000</td>\n",
       "      <td>10.400000</td>\n",
       "      <td>6.000000</td>\n",
       "    </tr>\n",
       "    <tr>\n",
       "      <th>75%</th>\n",
       "      <td>7.300000</td>\n",
       "      <td>0.320000</td>\n",
       "      <td>0.390000</td>\n",
       "      <td>9.900000</td>\n",
       "      <td>0.050000</td>\n",
       "      <td>46.000000</td>\n",
       "      <td>167.000000</td>\n",
       "      <td>0.996100</td>\n",
       "      <td>3.280000</td>\n",
       "      <td>0.550000</td>\n",
       "      <td>11.400000</td>\n",
       "      <td>6.000000</td>\n",
       "    </tr>\n",
       "    <tr>\n",
       "      <th>max</th>\n",
       "      <td>14.200000</td>\n",
       "      <td>1.100000</td>\n",
       "      <td>1.660000</td>\n",
       "      <td>65.800000</td>\n",
       "      <td>0.346000</td>\n",
       "      <td>289.000000</td>\n",
       "      <td>440.000000</td>\n",
       "      <td>1.038980</td>\n",
       "      <td>3.820000</td>\n",
       "      <td>1.080000</td>\n",
       "      <td>14.200000</td>\n",
       "      <td>9.000000</td>\n",
       "    </tr>\n",
       "  </tbody>\n",
       "</table>\n",
       "</div>"
      ],
      "text/plain": [
       "       fixed acidity  volatile acidity  citric acid  residual sugar  \\\n",
       "count    4898.000000       4898.000000  4898.000000     4898.000000   \n",
       "mean        6.854788          0.278241     0.334192        6.391415   \n",
       "std         0.843868          0.100795     0.121020        5.072058   \n",
       "min         3.800000          0.080000     0.000000        0.600000   \n",
       "25%         6.300000          0.210000     0.270000        1.700000   \n",
       "50%         6.800000          0.260000     0.320000        5.200000   \n",
       "75%         7.300000          0.320000     0.390000        9.900000   \n",
       "max        14.200000          1.100000     1.660000       65.800000   \n",
       "\n",
       "         chlorides  free sulfur dioxide  total sulfur dioxide      density  \\\n",
       "count  4898.000000          4898.000000           4898.000000  4898.000000   \n",
       "mean      0.045772            35.308085            138.360657     0.994027   \n",
       "std       0.021848            17.007137             42.498065     0.002991   \n",
       "min       0.009000             2.000000              9.000000     0.987110   \n",
       "25%       0.036000            23.000000            108.000000     0.991723   \n",
       "50%       0.043000            34.000000            134.000000     0.993740   \n",
       "75%       0.050000            46.000000            167.000000     0.996100   \n",
       "max       0.346000           289.000000            440.000000     1.038980   \n",
       "\n",
       "                pH    sulphates      alcohol      quality  \n",
       "count  4898.000000  4898.000000  4898.000000  4898.000000  \n",
       "mean      3.188267     0.489847    10.514267     5.877909  \n",
       "std       0.151001     0.114126     1.230621     0.885639  \n",
       "min       2.720000     0.220000     8.000000     3.000000  \n",
       "25%       3.090000     0.410000     9.500000     5.000000  \n",
       "50%       3.180000     0.470000    10.400000     6.000000  \n",
       "75%       3.280000     0.550000    11.400000     6.000000  \n",
       "max       3.820000     1.080000    14.200000     9.000000  "
      ]
     },
     "metadata": {},
     "output_type": "display_data"
    },
    {
     "name": "stdout",
     "output_type": "stream",
     "text": [
      "\n",
      "\n"
     ]
    }
   ],
   "source": [
    "# Table that summarizes the dataset statistics for winequality-white for question 1\n",
    "\n",
    "print('Summary of the dataset')   \n",
    "display(dataset.describe(include='all'))\n",
    "print('\\n')"
   ]
  },
  {
   "cell_type": "code",
   "execution_count": 4,
   "id": "4d5a2194-cda4-4008-9960-4e3b19accf22",
   "metadata": {},
   "outputs": [
    {
     "name": "stdout",
     "output_type": "stream",
     "text": [
      "Reading list of problem variables X and Y...\n",
      "done \n",
      "\n",
      "Partitioning data into parts: formative (for development) and summative (for testing) ...\n",
      "done \n",
      "\n"
     ]
    }
   ],
   "source": [
    "# Let's set up a problem: Can we predict 'quality' using these three features: 'fixed acidity', 'alcohol', 'pH' ?\n",
    "\n",
    "print('Reading list of problem variables X and Y...')\n",
    "X_name = [ 'fixed acidity', 'alcohol', 'pH' ] # columns to focus on as predictors\n",
    "X = dataset[X_name]   # only keep these columns as features\n",
    "y_name = 'quality'     # column to focus on as target\n",
    "y = dataset[y_name]   # only keep this column as label \n",
    "print('done \\n')\n",
    "\n",
    "# Split-out test dataset\n",
    "\n",
    "# We reset the random number seed before each run to ensure that the evaluation of each algorithm is performed using exactly the same data splits. It ensures the results are directly comparable.\n",
    "seed = 27\n",
    "\n",
    "# Train, test split\n",
    "print('Partitioning data into parts: formative (for development) and summative (for testing) ...')\n",
    "test_size = 0.20   # means 20 percent\n",
    "\n",
    "X_train, X_test, y_train, y_test = model_selection.train_test_split(X, y, test_size=test_size, random_state=seed)\n",
    "print('done \\n')"
   ]
  },
  {
   "cell_type": "code",
   "execution_count": 5,
   "id": "6ee2e9c9-cc0f-4337-a240-affa4acbb8e8",
   "metadata": {},
   "outputs": [
    {
     "data": {
      "text/html": [
       "<div>\n",
       "<style scoped>\n",
       "    .dataframe tbody tr th:only-of-type {\n",
       "        vertical-align: middle;\n",
       "    }\n",
       "\n",
       "    .dataframe tbody tr th {\n",
       "        vertical-align: top;\n",
       "    }\n",
       "\n",
       "    .dataframe thead th {\n",
       "        text-align: right;\n",
       "    }\n",
       "</style>\n",
       "<table border=\"1\" class=\"dataframe\">\n",
       "  <thead>\n",
       "    <tr style=\"text-align: right;\">\n",
       "      <th></th>\n",
       "      <th>fixed acidity</th>\n",
       "      <th>alcohol</th>\n",
       "      <th>pH</th>\n",
       "    </tr>\n",
       "  </thead>\n",
       "  <tbody>\n",
       "    <tr>\n",
       "      <th>count</th>\n",
       "      <td>3918.000000</td>\n",
       "      <td>3918.000000</td>\n",
       "      <td>3918.000000</td>\n",
       "    </tr>\n",
       "    <tr>\n",
       "      <th>mean</th>\n",
       "      <td>6.863055</td>\n",
       "      <td>10.512363</td>\n",
       "      <td>3.186575</td>\n",
       "    </tr>\n",
       "    <tr>\n",
       "      <th>std</th>\n",
       "      <td>0.850247</td>\n",
       "      <td>1.220276</td>\n",
       "      <td>0.152203</td>\n",
       "    </tr>\n",
       "    <tr>\n",
       "      <th>min</th>\n",
       "      <td>3.800000</td>\n",
       "      <td>8.400000</td>\n",
       "      <td>2.720000</td>\n",
       "    </tr>\n",
       "    <tr>\n",
       "      <th>25%</th>\n",
       "      <td>6.300000</td>\n",
       "      <td>9.500000</td>\n",
       "      <td>3.080000</td>\n",
       "    </tr>\n",
       "    <tr>\n",
       "      <th>50%</th>\n",
       "      <td>6.800000</td>\n",
       "      <td>10.400000</td>\n",
       "      <td>3.175000</td>\n",
       "    </tr>\n",
       "    <tr>\n",
       "      <th>75%</th>\n",
       "      <td>7.300000</td>\n",
       "      <td>11.400000</td>\n",
       "      <td>3.280000</td>\n",
       "    </tr>\n",
       "    <tr>\n",
       "      <th>max</th>\n",
       "      <td>14.200000</td>\n",
       "      <td>14.200000</td>\n",
       "      <td>3.820000</td>\n",
       "    </tr>\n",
       "  </tbody>\n",
       "</table>\n",
       "</div>"
      ],
      "text/plain": [
       "       fixed acidity      alcohol           pH\n",
       "count    3918.000000  3918.000000  3918.000000\n",
       "mean        6.863055    10.512363     3.186575\n",
       "std         0.850247     1.220276     0.152203\n",
       "min         3.800000     8.400000     2.720000\n",
       "25%         6.300000     9.500000     3.080000\n",
       "50%         6.800000    10.400000     3.175000\n",
       "75%         7.300000    11.400000     3.280000\n",
       "max        14.200000    14.200000     3.820000"
      ]
     },
     "metadata": {},
     "output_type": "display_data"
    },
    {
     "data": {
      "image/png": "[encoded data removed]",
      "text/plain": [
       "<Figure size 1080x1080 with 4 Axes>"
      ]
     },
     "metadata": {
      "needs_background": "light"
     },
     "output_type": "display_data"
    },
    {
     "data": {
      "text/plain": [
       "count    3918.000000\n",
       "mean        5.866769\n",
       "std         0.889684\n",
       "min         3.000000\n",
       "25%         5.000000\n",
       "50%         6.000000\n",
       "75%         6.000000\n",
       "max         9.000000\n",
       "Name: quality, dtype: float64"
      ]
     },
     "metadata": {},
     "output_type": "display_data"
    }
   ],
   "source": [
    "display(X_train.describe(include='all'))\n",
    "X_train.hist(figsize=(15, 15), bins=12)  # bins ~= sqrt(N)\n",
    "pl.show()\n",
    "\n",
    "display(y_train.describe(include='all'))"
   ]
  },
  {
   "cell_type": "raw",
   "id": "3f010fb9-1d8c-46c2-85c2-7464a382dfc0",
   "metadata": {},
   "source": [
    "2. Train and compare (using cross-validation) at least two different models; one\n",
    "based on Decision Trees (e.g., DecisionTreeClassifier, RandomForestClassifier)\n",
    "and one based on SVMs (e.g., an SVC with your choice of kernel)."
   ]
  },
  {
   "cell_type": "code",
   "execution_count": 6,
   "id": "801c6149-4a52-49f6-a4bd-6427e0292ce7",
   "metadata": {},
   "outputs": [
    {
     "name": "stdout",
     "output_type": "stream",
     "text": [
      "Reading list of algorithms to train ...\n",
      "done \n",
      "\n"
     ]
    }
   ],
   "source": [
    "#Will take the two models that have been chosen to be tested\n",
    "print('Reading list of algorithms to train ...')\n",
    "models = []\n",
    "models.append(( 'SVM', SVC(C=1000) )) #Kernel default is rfb and what we will be using\n",
    "models.append(( 'DT', DecisionTreeClassifier(max_depth=6) ))\n",
    "print('done \\n')"
   ]
  },
  {
   "cell_type": "code",
   "execution_count": 7,
   "id": "69c97c01-7e3f-4b17-bd95-6dfe7345c906",
   "metadata": {},
   "outputs": [
    {
     "name": "stdout",
     "output_type": "stream",
     "text": [
      "Reading list of scoring methods to use during model development ...\n",
      "done \n",
      "\n"
     ]
    }
   ],
   "source": [
    "print('Reading list of scoring methods to use during model development ...')\n",
    "scoring = 'accuracy'\n",
    "print('done \\n')"
   ]
  },
  {
   "cell_type": "code",
   "execution_count": 8,
   "id": "fea8aaef-1d47-41ac-b90b-81e5fb5bbbf0",
   "metadata": {},
   "outputs": [
    {
     "name": "stdout",
     "output_type": "stream",
     "text": [
      " ++ NOW WORKING ON ALGORITHM SVM ++\n",
      "Splitting data into 5 folds\n",
      "Training model on each split\n",
      "algorithm SVM accuracy results: mean = 0.494650 (std = 0.018051)\n",
      " ++ NOW WORKING ON ALGORITHM DT ++\n",
      "Splitting data into 5 folds\n",
      "Training model on each split\n",
      "algorithm DT accuracy results: mean = 0.498477 (std = 0.016115)\n",
      "done \n",
      "\n"
     ]
    }
   ],
   "source": [
    "# Now it is time to develop (train and validate) the models on the formative data set there will be two models\n",
    "\n",
    "k4folds = 5   # This will split our formative dataset into five parts;\n",
    "results = []\n",
    "names = []\n",
    "for name, model in models:   # Select each model in turn\n",
    "    print(\" ++ NOW WORKING ON ALGORITHM %s ++\" % name)\n",
    "    print(\"Splitting data into %s folds\" % k4folds)\n",
    "    kfold = model_selection.KFold(n_splits=k4folds, random_state=seed, shuffle=True)   # fit the model using four parts at a time and then validate it on the oher part that was set aside; and repeat five times.\n",
    "    print(\"Training model on each split\")\n",
    "    cv_results = model_selection.cross_val_score(model, X_train, y_train, cv=kfold, scoring=scoring)\n",
    "    results.append(cv_results)\n",
    "    names.append(name)\n",
    "    msg = \"algorithm %s %s results: mean = %f (std = %f)\" % (name, scoring, cv_results.mean(), cv_results.std())\n",
    "    print(msg)\n",
    "    \n",
    "print('done \\n') "
   ]
  },
  {
   "cell_type": "raw",
   "id": "c3727e05-7499-4ee6-af9a-3215407df88f",
   "metadata": {},
   "source": [
    "3. Tune each model considering at least two different hyperparameter options (e.g.,\n",
    "tree depth, regularization value C)."
   ]
  },
  {
   "cell_type": "code",
   "execution_count": 9,
   "id": "f504e5c5-9d8f-4e38-b959-bc83c47c970a",
   "metadata": {},
   "outputs": [
    {
     "name": "stdout",
     "output_type": "stream",
     "text": [
      "Now tuning hyperparameters...\n"
     ]
    },
    {
     "name": "stderr",
     "output_type": "stream",
     "text": [
      "/project/dsi/apps/anaconda3/python-3.8/lib/python3.8/site-packages/sklearn/model_selection/_split.py:676: UserWarning: The least populated class in y has only 4 members, which is less than n_splits=5.\n",
      "  warnings.warn(\n"
     ]
    },
    {
     "name": "stdout",
     "output_type": "stream",
     "text": [
      "Best hyperparameters found on development set:\n",
      "{'C': 10, 'class_weight': None}\n",
      "Grid scores on development set:\n",
      "0.441 (+/-0.001) for {'C': 0.01, 'class_weight': None}\n",
      "0.277 (+/-0.095) for {'C': 0.01, 'class_weight': 'balanced'}\n",
      "0.490 (+/-0.026) for {'C': 0.1, 'class_weight': None}\n",
      "0.295 (+/-0.038) for {'C': 0.1, 'class_weight': 'balanced'}\n",
      "0.490 (+/-0.027) for {'C': 1, 'class_weight': None}\n",
      "0.334 (+/-0.052) for {'C': 1, 'class_weight': 'balanced'}\n",
      "0.492 (+/-0.027) for {'C': 10, 'class_weight': None}\n",
      "0.294 (+/-0.044) for {'C': 10, 'class_weight': 'balanced'}\n",
      "0.491 (+/-0.019) for {'C': 100, 'class_weight': None}\n",
      "0.290 (+/-0.046) for {'C': 100, 'class_weight': 'balanced'}\n",
      "done \n",
      "\n"
     ]
    }
   ],
   "source": [
    "#Tuning the SVC model\n",
    "selected_model = SVC()\n",
    "hyperparameters = {'C':[0.01, 0.1, 1, 10, 100], 'class_weight':[None, 'balanced'] }\n",
    "\n",
    "print(\"Now tuning hyperparameters...\")\n",
    "clf = GridSearchCV(selected_model, hyperparameters, cv=5, scoring=scoring)\n",
    "clf.fit(X_train, y_train)\n",
    "\n",
    "print(\"Best hyperparameters found on development set:\")\n",
    "print(clf.best_params_)\n",
    "print(\"Grid scores on development set:\")\n",
    "means = clf.cv_results_['mean_test_score']\n",
    "stds = clf.cv_results_['std_test_score']\n",
    "for mean, std, params in zip(means, stds, clf.cv_results_['params']):\n",
    "    print(\"%0.3f (+/-%0.03f) for %r\"\n",
    "        % (mean, std * 2, params))\n",
    "print('done \\n')\n",
    "\n",
    "tuned_model = clf.best_estimator_"
   ]
  },
  {
   "cell_type": "raw",
   "id": "4745baea-7324-4731-8f52-ad1a67e51347",
   "metadata": {},
   "source": [
    "Best hyperparameters found on development set:\n",
    "{'C': 10, 'class_weight': None}"
   ]
  },
  {
   "cell_type": "code",
   "execution_count": 10,
   "id": "cdc885a0-6fd9-4fa6-ace7-43418056f4ae",
   "metadata": {},
   "outputs": [
    {
     "name": "stdout",
     "output_type": "stream",
     "text": [
      "Now tuning hyperparameters...\n"
     ]
    },
    {
     "name": "stderr",
     "output_type": "stream",
     "text": [
      "/project/dsi/apps/anaconda3/python-3.8/lib/python3.8/site-packages/sklearn/model_selection/_split.py:676: UserWarning: The least populated class in y has only 4 members, which is less than n_splits=5.\n",
      "  warnings.warn(\n"
     ]
    },
    {
     "name": "stdout",
     "output_type": "stream",
     "text": [
      "Best hyperparameters found on development set:\n",
      "{'criterion': 'gini', 'max_depth': 8}\n",
      "Grid scores on development set:\n",
      "0.496 (+/-0.021) for {'criterion': 'gini', 'max_depth': 5}\n",
      "0.495 (+/-0.031) for {'criterion': 'gini', 'max_depth': 6}\n",
      "0.497 (+/-0.038) for {'criterion': 'gini', 'max_depth': 7}\n",
      "0.504 (+/-0.026) for {'criterion': 'gini', 'max_depth': 8}\n",
      "0.497 (+/-0.039) for {'criterion': 'gini', 'max_depth': 9}\n",
      "0.500 (+/-0.028) for {'criterion': 'entropy', 'max_depth': 5}\n",
      "0.493 (+/-0.026) for {'criterion': 'entropy', 'max_depth': 6}\n",
      "0.484 (+/-0.018) for {'criterion': 'entropy', 'max_depth': 7}\n",
      "0.498 (+/-0.018) for {'criterion': 'entropy', 'max_depth': 8}\n",
      "0.492 (+/-0.036) for {'criterion': 'entropy', 'max_depth': 9}\n",
      "done \n",
      "\n"
     ]
    }
   ],
   "source": [
    "#Tuning the DT model\n",
    "selected_model2 = DecisionTreeClassifier()\n",
    "hyperparameters = {'max_depth':[5, 6, 7, 8, 9], 'criterion':['gini', 'entropy'] }\n",
    "\n",
    "print(\"Now tuning hyperparameters...\")\n",
    "clf = GridSearchCV(selected_model2, hyperparameters, cv=5, scoring=scoring)\n",
    "clf.fit(X_train, y_train)\n",
    "\n",
    "print(\"Best hyperparameters found on development set:\")\n",
    "print(clf.best_params_)\n",
    "print(\"Grid scores on development set:\")\n",
    "means = clf.cv_results_['mean_test_score']\n",
    "stds = clf.cv_results_['std_test_score']\n",
    "for mean, std, params in zip(means, stds, clf.cv_results_['params']):\n",
    "    print(\"%0.3f (+/-%0.03f) for %r\"\n",
    "        % (mean, std * 2, params))\n",
    "print('done \\n')\n",
    "\n",
    "tuned_model = clf.best_estimator_"
   ]
  },
  {
   "cell_type": "raw",
   "id": "09c1451e-f1b3-4702-af6a-3b45b587c7e5",
   "metadata": {},
   "source": [
    "Best hyperparameters found on development set:\n",
    "{'criterion': 'gini', 'max_depth': 8}"
   ]
  },
  {
   "cell_type": "raw",
   "id": "1e496ebc-2140-40d5-8fc6-ee3675bcb6e5",
   "metadata": {},
   "source": [
    "4. Use the make_pipeline() method to study and describe the impact of feature\n",
    "selection on the performance of the tuned SVM from Step 3. You can try dimension\n",
    "reduction (e.g., using different n_component values for PCA) and/or data scaling\n",
    "(e.g., MinMaxScaler)."
   ]
  },
  {
   "cell_type": "code",
   "execution_count": 11,
   "id": "2e7f0bae-fb83-4ebf-bb2b-8d41473c2620",
   "metadata": {},
   "outputs": [
    {
     "name": "stdout",
     "output_type": "stream",
     "text": [
      "Detailed classification report:\n",
      "\n",
      "\n"
     ]
    },
    {
     "name": "stderr",
     "output_type": "stream",
     "text": [
      "/project/dsi/apps/anaconda3/python-3.8/lib/python3.8/site-packages/sklearn/metrics/_classification.py:1318: UndefinedMetricWarning: Precision and F-score are ill-defined and being set to 0.0 in labels with no predicted samples. Use `zero_division` parameter to control this behavior.\n",
      "  _warn_prf(average, modifier, msg_start, len(result))\n",
      "/project/dsi/apps/anaconda3/python-3.8/lib/python3.8/site-packages/sklearn/metrics/_classification.py:1318: UndefinedMetricWarning: Precision and F-score are ill-defined and being set to 0.0 in labels with no predicted samples. Use `zero_division` parameter to control this behavior.\n",
      "  _warn_prf(average, modifier, msg_start, len(result))\n",
      "/project/dsi/apps/anaconda3/python-3.8/lib/python3.8/site-packages/sklearn/metrics/_classification.py:1318: UndefinedMetricWarning: Precision and F-score are ill-defined and being set to 0.0 in labels with no predicted samples. Use `zero_division` parameter to control this behavior.\n",
      "  _warn_prf(average, modifier, msg_start, len(result))\n"
     ]
    },
    {
     "name": "stdout",
     "output_type": "stream",
     "text": [
      "              precision    recall  f1-score   support\n",
      "\n",
      "           3       0.00      0.00      0.00         4\n",
      "           4       0.00      0.00      0.00        27\n",
      "           5       0.49      0.53      0.51       264\n",
      "           6       0.53      0.76      0.63       471\n",
      "           7       0.67      0.09      0.16       175\n",
      "           8       0.00      0.00      0.00        38\n",
      "           9       0.00      0.00      0.00         1\n",
      "\n",
      "    accuracy                           0.52       980\n",
      "   macro avg       0.24      0.20      0.19       980\n",
      "weighted avg       0.51      0.52      0.47       980\n",
      "\n",
      "done \n",
      "\n",
      "Detailed classification report:\n",
      "\n",
      "\n",
      "              precision    recall  f1-score   support\n",
      "\n",
      "           3       0.00      0.00      0.00         4\n",
      "           4       0.00      0.00      0.00        27\n",
      "           5       0.49      0.60      0.54       264\n",
      "           6       0.54      0.69      0.61       471\n",
      "           7       0.50      0.16      0.24       175\n",
      "           8       0.00      0.00      0.00        38\n",
      "           9       0.00      0.00      0.00         1\n",
      "\n",
      "    accuracy                           0.52       980\n",
      "   macro avg       0.22      0.21      0.20       980\n",
      "weighted avg       0.48      0.52      0.48       980\n",
      "\n",
      "done \n",
      "\n"
     ]
    },
    {
     "name": "stderr",
     "output_type": "stream",
     "text": [
      "/project/dsi/apps/anaconda3/python-3.8/lib/python3.8/site-packages/sklearn/metrics/_classification.py:1318: UndefinedMetricWarning: Precision and F-score are ill-defined and being set to 0.0 in labels with no predicted samples. Use `zero_division` parameter to control this behavior.\n",
      "  _warn_prf(average, modifier, msg_start, len(result))\n",
      "/project/dsi/apps/anaconda3/python-3.8/lib/python3.8/site-packages/sklearn/metrics/_classification.py:1318: UndefinedMetricWarning: Precision and F-score are ill-defined and being set to 0.0 in labels with no predicted samples. Use `zero_division` parameter to control this behavior.\n",
      "  _warn_prf(average, modifier, msg_start, len(result))\n",
      "/project/dsi/apps/anaconda3/python-3.8/lib/python3.8/site-packages/sklearn/metrics/_classification.py:1318: UndefinedMetricWarning: Precision and F-score are ill-defined and being set to 0.0 in labels with no predicted samples. Use `zero_division` parameter to control this behavior.\n",
      "  _warn_prf(average, modifier, msg_start, len(result))\n"
     ]
    }
   ],
   "source": [
    "#Comparison of SVC model to scaled model\n",
    "raw_SVM = SVC(C=10, class_weight=None)  #Kernel default is rfb and what we will be using\n",
    "raw_SVM.fit(X_train, y_train)\n",
    "print(\"Detailed classification report:\")\n",
    "print('\\n')\n",
    "y_true, y_pred = y_test, raw_SVM.predict(X_test)\n",
    "print(classification_report(y_true, y_pred))\n",
    "print('done \\n')\n",
    "\n",
    "scaled_SVM = make_pipeline( MinMaxScaler(), SVC(C=10, class_weight=None) )  \n",
    "scaled_SVM.fit(X_train, y_train)\n",
    "print(\"Detailed classification report:\")\n",
    "print('\\n')\n",
    "y_true, y_pred = y_test, scaled_SVM.predict(X_test)\n",
    "print(classification_report(y_true, y_pred))\n",
    "print('done \\n')"
   ]
  },
  {
   "cell_type": "code",
   "execution_count": 12,
   "id": "45d0ee3a-7381-4cc6-ac43-00340adc5da3",
   "metadata": {},
   "outputs": [
    {
     "name": "stdout",
     "output_type": "stream",
     "text": [
      "Detailed classification report:\n",
      "\n",
      "\n",
      "              precision    recall  f1-score   support\n",
      "\n",
      "           3       0.00      0.00      0.00         4\n",
      "           4       0.67      0.07      0.13        27\n",
      "           5       0.47      0.55      0.51       264\n",
      "           6       0.56      0.64      0.59       471\n",
      "           7       0.53      0.37      0.43       175\n",
      "           8       0.25      0.03      0.05        38\n",
      "           9       0.00      0.00      0.00         1\n",
      "\n",
      "    accuracy                           0.52       980\n",
      "   macro avg       0.35      0.24      0.25       980\n",
      "weighted avg       0.52      0.52      0.51       980\n",
      "\n",
      "done \n",
      "\n",
      "Detailed classification report:\n",
      "\n",
      "\n",
      "              precision    recall  f1-score   support\n",
      "\n",
      "           3       0.00      0.00      0.00         4\n",
      "           4       0.67      0.07      0.13        27\n",
      "           5       0.47      0.55      0.51       264\n",
      "           6       0.55      0.64      0.59       471\n",
      "           7       0.53      0.37      0.43       175\n",
      "           8       0.25      0.03      0.05        38\n",
      "           9       0.00      0.00      0.00         1\n",
      "\n",
      "    accuracy                           0.52       980\n",
      "   macro avg       0.35      0.24      0.25       980\n",
      "weighted avg       0.52      0.52      0.51       980\n",
      "\n",
      "done \n",
      "\n"
     ]
    },
    {
     "name": "stderr",
     "output_type": "stream",
     "text": [
      "/project/dsi/apps/anaconda3/python-3.8/lib/python3.8/site-packages/sklearn/metrics/_classification.py:1318: UndefinedMetricWarning: Precision and F-score are ill-defined and being set to 0.0 in labels with no predicted samples. Use `zero_division` parameter to control this behavior.\n",
      "  _warn_prf(average, modifier, msg_start, len(result))\n",
      "/project/dsi/apps/anaconda3/python-3.8/lib/python3.8/site-packages/sklearn/metrics/_classification.py:1318: UndefinedMetricWarning: Precision and F-score are ill-defined and being set to 0.0 in labels with no predicted samples. Use `zero_division` parameter to control this behavior.\n",
      "  _warn_prf(average, modifier, msg_start, len(result))\n",
      "/project/dsi/apps/anaconda3/python-3.8/lib/python3.8/site-packages/sklearn/metrics/_classification.py:1318: UndefinedMetricWarning: Precision and F-score are ill-defined and being set to 0.0 in labels with no predicted samples. Use `zero_division` parameter to control this behavior.\n",
      "  _warn_prf(average, modifier, msg_start, len(result))\n",
      "/project/dsi/apps/anaconda3/python-3.8/lib/python3.8/site-packages/sklearn/metrics/_classification.py:1318: UndefinedMetricWarning: Precision and F-score are ill-defined and being set to 0.0 in labels with no predicted samples. Use `zero_division` parameter to control this behavior.\n",
      "  _warn_prf(average, modifier, msg_start, len(result))\n",
      "/project/dsi/apps/anaconda3/python-3.8/lib/python3.8/site-packages/sklearn/metrics/_classification.py:1318: UndefinedMetricWarning: Precision and F-score are ill-defined and being set to 0.0 in labels with no predicted samples. Use `zero_division` parameter to control this behavior.\n",
      "  _warn_prf(average, modifier, msg_start, len(result))\n",
      "/project/dsi/apps/anaconda3/python-3.8/lib/python3.8/site-packages/sklearn/metrics/_classification.py:1318: UndefinedMetricWarning: Precision and F-score are ill-defined and being set to 0.0 in labels with no predicted samples. Use `zero_division` parameter to control this behavior.\n",
      "  _warn_prf(average, modifier, msg_start, len(result))\n"
     ]
    }
   ],
   "source": [
    "#Comparison of DT model to scaled model\n",
    "raw_DT = DecisionTreeClassifier(criterion='gini', max_depth=8 ) \n",
    "raw_DT.fit(X_train, y_train)\n",
    "print(\"Detailed classification report:\")\n",
    "print('\\n')\n",
    "y_true, y_pred = y_test, raw_DT.predict(X_test)\n",
    "print(classification_report(y_true, y_pred))\n",
    "print('done \\n')\n",
    "\n",
    "scaled_DT = make_pipeline( MinMaxScaler(), DecisionTreeClassifier(criterion='gini', max_depth=8 ) )  \n",
    "scaled_DT.fit(X_train, y_train)\n",
    "print(\"Detailed classification report:\")\n",
    "print('\\n')\n",
    "y_true, y_pred = y_test, scaled_DT.predict(X_test)\n",
    "print(classification_report(y_true, y_pred))\n",
    "print('done \\n')"
   ]
  },
  {
   "cell_type": "raw",
   "id": "4933fcb1-d34f-4938-b078-3bef186211b7",
   "metadata": {},
   "source": [
    "There was very little difference in the results of the raw models compared to the scaled models for both SVC and DT. Tha accuracy for the outside\n",
    "numbers for all 4 models were very weak all near 0 or at 0."
   ]
  },
  {
   "cell_type": "raw",
   "id": "1d89420d-de86-45dd-82ea-8e84e95adbfc",
   "metadata": {},
   "source": [
    "5. Train the DummyClassifier() on your training set and then compare the\n",
    "performance of the best method you found to the performance of the\n",
    "DummyClassifier() using your test set. Discuss your overall results. "
   ]
  },
  {
   "cell_type": "code",
   "execution_count": 13,
   "id": "dc9d0b55-90b3-490d-acae-1a87a68fae68",
   "metadata": {},
   "outputs": [
    {
     "name": "stdout",
     "output_type": "stream",
     "text": [
      "Detailed classification report:\n",
      "\n",
      "\n",
      "              precision    recall  f1-score   support\n",
      "\n",
      "           3       0.00      0.00      0.00         4\n",
      "           4       0.00      0.00      0.00        27\n",
      "           5       0.00      0.00      0.00       264\n",
      "           6       0.48      1.00      0.65       471\n",
      "           7       0.00      0.00      0.00       175\n",
      "           8       0.00      0.00      0.00        38\n",
      "           9       0.00      0.00      0.00         1\n",
      "\n",
      "    accuracy                           0.48       980\n",
      "   macro avg       0.07      0.14      0.09       980\n",
      "weighted avg       0.23      0.48      0.31       980\n",
      "\n",
      "done \n",
      "\n"
     ]
    },
    {
     "name": "stderr",
     "output_type": "stream",
     "text": [
      "/project/dsi/apps/anaconda3/python-3.8/lib/python3.8/site-packages/sklearn/metrics/_classification.py:1318: UndefinedMetricWarning: Precision and F-score are ill-defined and being set to 0.0 in labels with no predicted samples. Use `zero_division` parameter to control this behavior.\n",
      "  _warn_prf(average, modifier, msg_start, len(result))\n",
      "/project/dsi/apps/anaconda3/python-3.8/lib/python3.8/site-packages/sklearn/metrics/_classification.py:1318: UndefinedMetricWarning: Precision and F-score are ill-defined and being set to 0.0 in labels with no predicted samples. Use `zero_division` parameter to control this behavior.\n",
      "  _warn_prf(average, modifier, msg_start, len(result))\n",
      "/project/dsi/apps/anaconda3/python-3.8/lib/python3.8/site-packages/sklearn/metrics/_classification.py:1318: UndefinedMetricWarning: Precision and F-score are ill-defined and being set to 0.0 in labels with no predicted samples. Use `zero_division` parameter to control this behavior.\n",
      "  _warn_prf(average, modifier, msg_start, len(result))\n"
     ]
    }
   ],
   "source": [
    "from sklearn.dummy import DummyClassifier\n",
    "dummy = DummyClassifier()\n",
    "dummy.fit(X_train, y_train)\n",
    "print(\"Detailed classification report:\")\n",
    "print('\\n')\n",
    "y_true, y_pred = y_test, dummy.predict(X_test)\n",
    "print(classification_report(y_true, y_pred))\n",
    "print('done \\n')"
   ]
  },
  {
   "cell_type": "raw",
   "id": "452c8af2-23cd-4123-832e-25fb68313373",
   "metadata": {},
   "source": [
    "Dummy's defualt is “prior”: the predict method always returns the most frequent class label in the observed y argument passed to fit (like “most_frequent”). \n",
    "predict_proba always returns the empirical class distribution of y also known as the empirical class prior distribution. This can be seen as the dummy model only returned 6.\n",
    "\n",
    "This did however get very close to the training models of SVC and DT, which in those cases also have stronger accurarcy to the middles numbers. Overall for how much power dummy has \n",
    "to input to get the results it is very close and shows that the SVC and DT models are not fit for this data, or that we need to use other varibles."
   ]
  }
 ],
 "metadata": {
  "kernelspec": {
   "display_name": "Python 3.8",
   "language": "python",
   "name": "python3.8"
  },
  "language_info": {
   "codemirror_mode": {
    "name": "ipython",
    "version": 3
   },
   "file_extension": ".py",
   "mimetype": "text/x-python",
   "name": "python",
   "nbconvert_exporter": "python",
   "pygments_lexer": "ipython3",
   "version": "3.8.13"
  }
 },
 "nbformat": 4,
 "nbformat_minor": 5
}
