{
 "cells": [
  {
   "cell_type": "code",
   "execution_count": 1,
   "metadata": {},
   "outputs": [],
   "source": [
    "# Import libraries\n",
    "\n",
    "\n",
    "# Pandas for data handling\n",
    "import pandas # https://pandas.pydata.org/\n",
    "from pandas.plotting import scatter_matrix\n",
    "\n",
    "# pretty tables\n",
    "from IPython.display import display\n",
    "\n",
    "# NumPy for numerical computing\n",
    "import numpy # https://numpy.org/\n",
    "\n",
    "# MatPlotLib + Seaborn for visualization\n",
    "import matplotlib.pyplot as pl  # https://matplotlib.org/\n",
    "import seaborn as sns   # https://seaborn.pydata.org/\n",
    "\n",
    "# assessment\n",
    "from sklearn import model_selection # for model comparisons\n",
    "from sklearn.model_selection import GridSearchCV\n",
    "from sklearn.metrics import accuracy_score\n",
    "from sklearn.metrics import f1_score\n",
    "from sklearn.metrics import precision_score\n",
    "from sklearn.metrics import confusion_matrix\n",
    "from sklearn.metrics import classification_report\n",
    "\n",
    "# algorithms for the two models being used for this homework\n",
    "from sklearn.linear_model import LogisticRegression\n",
    "from sklearn.neighbors import KNeighborsClassifier"
   ]
  },
  {
   "cell_type": "raw",
   "metadata": {},
   "source": [
    "1. Load the dataset in the file named BDOShoham.csv and produce at least one table and one graph that summarize the dataset statistics."
   ]
  },
  {
   "cell_type": "code",
   "execution_count": 2,
   "metadata": {},
   "outputs": [
    {
     "name": "stdout",
     "output_type": "stream",
     "text": [
      "Loading data from file ...\n",
      "done \n",
      "\n",
      "Removing rows with missing data ...\n",
      "done \n",
      "\n"
     ]
    }
   ],
   "source": [
    "print('Loading data from file ...')  # Now let's load the data\n",
    "dataset = pandas.read_csv('BDOShoham.csv') # default is header=infer, change if column names are not in first row\n",
    "print('done \\n')\n",
    "\n",
    "print('Removing rows with missing data ...')\n",
    "dataset = dataset.dropna()  # default is to drop any row that contains at least one missing value\n",
    "print('done \\n')"
   ]
  },
  {
   "cell_type": "code",
   "execution_count": 3,
   "metadata": {},
   "outputs": [
    {
     "name": "stdout",
     "output_type": "stream",
     "text": [
      "Summary of the dataset\n"
     ]
    },
    {
     "data": {
      "text/html": [
       "<div>\n",
       "<style scoped>\n",
       "    .dataframe tbody tr th:only-of-type {\n",
       "        vertical-align: middle;\n",
       "    }\n",
       "\n",
       "    .dataframe tbody tr th {\n",
       "        vertical-align: top;\n",
       "    }\n",
       "\n",
       "    .dataframe thead th {\n",
       "        text-align: right;\n",
       "    }\n",
       "</style>\n",
       "<table border=\"1\" class=\"dataframe\">\n",
       "  <thead>\n",
       "    <tr style=\"text-align: right;\">\n",
       "      <th></th>\n",
       "      <th>FlowPattern</th>\n",
       "      <th>Vsl</th>\n",
       "      <th>Vsg</th>\n",
       "      <th>VisL</th>\n",
       "      <th>VisG</th>\n",
       "      <th>DenL</th>\n",
       "      <th>DenG</th>\n",
       "      <th>ST</th>\n",
       "      <th>Ang</th>\n",
       "      <th>ID</th>\n",
       "    </tr>\n",
       "  </thead>\n",
       "  <tbody>\n",
       "    <tr>\n",
       "      <th>count</th>\n",
       "      <td>5675.000000</td>\n",
       "      <td>5675.000000</td>\n",
       "      <td>5675.000000</td>\n",
       "      <td>5.675000e+03</td>\n",
       "      <td>5.675000e+03</td>\n",
       "      <td>5675.0</td>\n",
       "      <td>5.675000e+03</td>\n",
       "      <td>5.675000e+03</td>\n",
       "      <td>5675.000000</td>\n",
       "      <td>5675.000000</td>\n",
       "    </tr>\n",
       "    <tr>\n",
       "      <th>mean</th>\n",
       "      <td>4.059912</td>\n",
       "      <td>0.899747</td>\n",
       "      <td>6.222612</td>\n",
       "      <td>1.000000e-03</td>\n",
       "      <td>2.000000e-05</td>\n",
       "      <td>1000.0</td>\n",
       "      <td>1.800000e+00</td>\n",
       "      <td>7.000000e-02</td>\n",
       "      <td>2.727401</td>\n",
       "      <td>0.038657</td>\n",
       "    </tr>\n",
       "    <tr>\n",
       "      <th>std</th>\n",
       "      <td>1.379238</td>\n",
       "      <td>1.425159</td>\n",
       "      <td>8.699644</td>\n",
       "      <td>4.055273e-17</td>\n",
       "      <td>2.361736e-18</td>\n",
       "      <td>0.0</td>\n",
       "      <td>4.108187e-14</td>\n",
       "      <td>5.690394e-15</td>\n",
       "      <td>46.202822</td>\n",
       "      <td>0.012985</td>\n",
       "    </tr>\n",
       "    <tr>\n",
       "      <th>min</th>\n",
       "      <td>1.000000</td>\n",
       "      <td>0.001100</td>\n",
       "      <td>0.003720</td>\n",
       "      <td>1.000000e-03</td>\n",
       "      <td>2.000000e-05</td>\n",
       "      <td>1000.0</td>\n",
       "      <td>1.800000e+00</td>\n",
       "      <td>7.000000e-02</td>\n",
       "      <td>-90.000000</td>\n",
       "      <td>0.025000</td>\n",
       "    </tr>\n",
       "    <tr>\n",
       "      <th>25%</th>\n",
       "      <td>3.000000</td>\n",
       "      <td>0.016000</td>\n",
       "      <td>0.162055</td>\n",
       "      <td>1.000000e-03</td>\n",
       "      <td>2.000000e-05</td>\n",
       "      <td>1000.0</td>\n",
       "      <td>1.800000e+00</td>\n",
       "      <td>7.000000e-02</td>\n",
       "      <td>-10.000000</td>\n",
       "      <td>0.025000</td>\n",
       "    </tr>\n",
       "    <tr>\n",
       "      <th>50%</th>\n",
       "      <td>5.000000</td>\n",
       "      <td>0.250000</td>\n",
       "      <td>1.600000</td>\n",
       "      <td>1.000000e-03</td>\n",
       "      <td>2.000000e-05</td>\n",
       "      <td>1000.0</td>\n",
       "      <td>1.800000e+00</td>\n",
       "      <td>7.000000e-02</td>\n",
       "      <td>0.500000</td>\n",
       "      <td>0.051000</td>\n",
       "    </tr>\n",
       "    <tr>\n",
       "      <th>75%</th>\n",
       "      <td>5.000000</td>\n",
       "      <td>1.500000</td>\n",
       "      <td>10.000000</td>\n",
       "      <td>1.000000e-03</td>\n",
       "      <td>2.000000e-05</td>\n",
       "      <td>1000.0</td>\n",
       "      <td>1.800000e+00</td>\n",
       "      <td>7.000000e-02</td>\n",
       "      <td>20.000000</td>\n",
       "      <td>0.051000</td>\n",
       "    </tr>\n",
       "    <tr>\n",
       "      <th>max</th>\n",
       "      <td>7.000000</td>\n",
       "      <td>25.517000</td>\n",
       "      <td>42.956200</td>\n",
       "      <td>1.000000e-03</td>\n",
       "      <td>2.000000e-05</td>\n",
       "      <td>1000.0</td>\n",
       "      <td>1.800000e+00</td>\n",
       "      <td>7.000000e-02</td>\n",
       "      <td>90.000000</td>\n",
       "      <td>0.051000</td>\n",
       "    </tr>\n",
       "  </tbody>\n",
       "</table>\n",
       "</div>"
      ],
      "text/plain": [
       "       FlowPattern          Vsl          Vsg          VisL          VisG  \\\n",
       "count  5675.000000  5675.000000  5675.000000  5.675000e+03  5.675000e+03   \n",
       "mean      4.059912     0.899747     6.222612  1.000000e-03  2.000000e-05   \n",
       "std       1.379238     1.425159     8.699644  4.055273e-17  2.361736e-18   \n",
       "min       1.000000     0.001100     0.003720  1.000000e-03  2.000000e-05   \n",
       "25%       3.000000     0.016000     0.162055  1.000000e-03  2.000000e-05   \n",
       "50%       5.000000     0.250000     1.600000  1.000000e-03  2.000000e-05   \n",
       "75%       5.000000     1.500000    10.000000  1.000000e-03  2.000000e-05   \n",
       "max       7.000000    25.517000    42.956200  1.000000e-03  2.000000e-05   \n",
       "\n",
       "         DenL          DenG            ST          Ang           ID  \n",
       "count  5675.0  5.675000e+03  5.675000e+03  5675.000000  5675.000000  \n",
       "mean   1000.0  1.800000e+00  7.000000e-02     2.727401     0.038657  \n",
       "std       0.0  4.108187e-14  5.690394e-15    46.202822     0.012985  \n",
       "min    1000.0  1.800000e+00  7.000000e-02   -90.000000     0.025000  \n",
       "25%    1000.0  1.800000e+00  7.000000e-02   -10.000000     0.025000  \n",
       "50%    1000.0  1.800000e+00  7.000000e-02     0.500000     0.051000  \n",
       "75%    1000.0  1.800000e+00  7.000000e-02    20.000000     0.051000  \n",
       "max    1000.0  1.800000e+00  7.000000e-02    90.000000     0.051000  "
      ]
     },
     "metadata": {},
     "output_type": "display_data"
    },
    {
     "name": "stdout",
     "output_type": "stream",
     "text": [
      "\n",
      "\n"
     ]
    }
   ],
   "source": [
    "# Table that summarizes the dataset statistics for BDOShoham for question 1\n",
    "\n",
    "print('Summary of the dataset')   \n",
    "display(dataset.describe(include='all'))\n",
    "print('\\n')"
   ]
  },
  {
   "cell_type": "raw",
   "metadata": {},
   "source": [
    "2. Set up a classification problem: predicting the FlowPattern value based on the values of the variables named Vsl, Vsg, and Ang, and split the dataset into separate training and test sets in a reproducible way."
   ]
  },
  {
   "cell_type": "code",
   "execution_count": 4,
   "metadata": {},
   "outputs": [
    {
     "name": "stdout",
     "output_type": "stream",
     "text": [
      "Reading list of problem variables X and Y...\n",
      "done \n",
      "\n"
     ]
    }
   ],
   "source": [
    "# Will break FlowPattern into y and Vsl, Vsg, and Ang into X to be used for our training and cross-validation models\n",
    "print('Reading list of problem variables X and Y...')\n",
    "X_name = [ 'Vsl', 'Vsg', 'Ang' ] # columns to focus on as predictors\n",
    "X = dataset[X_name]   # only keep these columns as features\n",
    "y_name = 'FlowPattern'     # column to focus on as target\n",
    "y = dataset[y_name]   # only keep this column as label \n",
    "print('done \\n')"
   ]
  },
  {
   "cell_type": "code",
   "execution_count": 5,
   "metadata": {
    "scrolled": true
   },
   "outputs": [
    {
     "name": "stdout",
     "output_type": "stream",
     "text": [
      "Summary of Vsl, Vsg, Ang\n",
      "\n",
      "Box plots:\n"
     ]
    },
    {
     "data": {
      "image/png": "[encoded data removed]",
      "text/plain": [
       "<Figure size 1080x360 with 3 Axes>"
      ]
     },
     "metadata": {
      "needs_background": "light"
     },
     "output_type": "display_data"
    }
   ],
   "source": [
    "# Graphical Summaries on Vsl, Vsg, and Ang used to answer the graphical part of question 1.\n",
    "\n",
    "print('Summary of Vsl, Vsg, Ang')\n",
    "print()\n",
    "\n",
    "print('Box plots:')\n",
    "X.plot(figsize=(15, 5), kind='box', subplots=True, sharex=False, sharey=False)\n",
    "pl.show()"
   ]
  },
  {
   "cell_type": "code",
   "execution_count": 6,
   "metadata": {},
   "outputs": [
    {
     "name": "stdout",
     "output_type": "stream",
     "text": [
      "Partitioning data into two parts: train (for formative development) and test (for summative evaluation) ...\n",
      "done \n",
      "\n"
     ]
    }
   ],
   "source": [
    "#Will split out the test dataset to be used \n",
    "print('Partitioning data into two parts: train (for formative development) and test (for summative evaluation) ...')\n",
    "test_size = 0.20   # means 20 percent\n",
    "seed = 27 # setting the seed, 27 my favorite roulette number\n",
    "\n",
    "X_train, X_test, y_train, y_test = model_selection.train_test_split(X, y, test_size=test_size, random_state=seed)\n",
    "print('done \\n')"
   ]
  },
  {
   "cell_type": "raw",
   "metadata": {},
   "source": [
    "3. Train at least two models (e.g., k-NN, logistic regression) to solve this classification problem. Use the training set you created in part 2 to cross-validate the performance of each model. Report on three different scoring methods (e.g., accuracy, weighted precision, macro recall, f1 score)."
   ]
  },
  {
   "cell_type": "code",
   "execution_count": 9,
   "metadata": {},
   "outputs": [
    {
     "name": "stderr",
     "output_type": "stream",
     "text": [
      "/project/dsi/apps/anaconda3/python-3.8/lib/python3.8/site-packages/sklearn/linear_model/_logistic.py:814: ConvergenceWarning: lbfgs failed to converge (status=1):\n",
      "STOP: TOTAL NO. of ITERATIONS REACHED LIMIT.\n",
      "\n",
      "Increase the number of iterations (max_iter) or scale the data as shown in:\n",
      "    https://scikit-learn.org/stable/modules/preprocessing.html\n",
      "Please also refer to the documentation for alternative solver options:\n",
      "    https://scikit-learn.org/stable/modules/linear_model.html#logistic-regression\n",
      "  n_iter_i = _check_optimize_result(\n"
     ]
    },
    {
     "name": "stdout",
     "output_type": "stream",
     "text": [
      " ++++ Detailed classification report for the selected model ++++ \n",
      "Algorithm LogisticRegression(multi_class='multinomial') \n",
      "This model was trained and tuned on the development set using CV.\n",
      "The following results are computed on the separate test set:\n"
     ]
    },
    {
     "data": {
      "image/png": "[encoded data removed]",
      "text/plain": [
       "<Figure size 432x288 with 1 Axes>"
      ]
     },
     "metadata": {
      "needs_background": "light"
     },
     "output_type": "display_data"
    },
    {
     "name": "stderr",
     "output_type": "stream",
     "text": [
      "/project/dsi/apps/anaconda3/python-3.8/lib/python3.8/site-packages/sklearn/metrics/_classification.py:1318: UndefinedMetricWarning: Precision and F-score are ill-defined and being set to 0.0 in labels with no predicted samples. Use `zero_division` parameter to control this behavior.\n",
      "  _warn_prf(average, modifier, msg_start, len(result))\n",
      "/project/dsi/apps/anaconda3/python-3.8/lib/python3.8/site-packages/sklearn/metrics/_classification.py:1318: UndefinedMetricWarning: Precision and F-score are ill-defined and being set to 0.0 in labels with no predicted samples. Use `zero_division` parameter to control this behavior.\n",
      "  _warn_prf(average, modifier, msg_start, len(result))\n",
      "/project/dsi/apps/anaconda3/python-3.8/lib/python3.8/site-packages/sklearn/metrics/_classification.py:1318: UndefinedMetricWarning: Precision and F-score are ill-defined and being set to 0.0 in labels with no predicted samples. Use `zero_division` parameter to control this behavior.\n",
      "  _warn_prf(average, modifier, msg_start, len(result))\n"
     ]
    },
    {
     "name": "stdout",
     "output_type": "stream",
     "text": [
      "\n",
      " clasification report:\n",
      "               precision    recall  f1-score   support\n",
      "\n",
      "           1       0.92      0.53      0.68       133\n",
      "           2       0.00      0.00      0.00        30\n",
      "           3       0.35      0.14      0.20       181\n",
      "           4       0.62      0.65      0.63       187\n",
      "           5       0.68      0.90      0.77       581\n",
      "           7       0.47      0.35      0.40        23\n",
      "\n",
      "    accuracy                           0.66      1135\n",
      "   macro avg       0.51      0.43      0.45      1135\n",
      "weighted avg       0.62      0.66      0.62      1135\n",
      "\n",
      "\n",
      "\n",
      "done \n",
      "\n",
      " ++++ Detailed classification report for the selected model ++++ \n",
      "Algorithm KNeighborsClassifier() \n",
      "This model was trained and tuned on the development set using CV.\n",
      "The following results are computed on the separate test set:\n"
     ]
    },
    {
     "data": {
      "image/png": "[encoded data removed]",
      "text/plain": [
       "<Figure size 432x288 with 1 Axes>"
      ]
     },
     "metadata": {
      "needs_background": "light"
     },
     "output_type": "display_data"
    },
    {
     "name": "stdout",
     "output_type": "stream",
     "text": [
      "\n",
      " clasification report:\n",
      "               precision    recall  f1-score   support\n",
      "\n",
      "           1       0.83      0.79      0.81       133\n",
      "           2       0.89      0.83      0.86        30\n",
      "           3       0.80      0.87      0.84       181\n",
      "           4       0.78      0.87      0.82       187\n",
      "           5       0.93      0.87      0.90       581\n",
      "           7       0.62      0.87      0.73        23\n",
      "\n",
      "    accuracy                           0.86      1135\n",
      "   macro avg       0.81      0.85      0.83      1135\n",
      "weighted avg       0.86      0.86      0.86      1135\n",
      "\n",
      "\n",
      "\n",
      "done \n",
      "\n"
     ]
    }
   ],
   "source": [
    "# Choosing the Algorithms\n",
    "#The two models will be k-NN and Logistic regression\n",
    "\n",
    "#logistic Regression\n",
    "model1 = LogisticRegression(multi_class='multinomial',  solver='lbfgs')\n",
    "model1.fit(X_train, y_train)\n",
    "predictions = model1.predict(X_test)\n",
    "print(\" ++++ Detailed classification report for the selected model ++++ \" )\n",
    "print(\"Algorithm %s \" % model1)\n",
    "print(\"This model was trained and tuned on the development set using CV.\")\n",
    "print(\"The following results are computed on the separate test set:\")\n",
    "\n",
    "predictions = model1.predict(X_test)\n",
    "cm = confusion_matrix(y_test, predictions)\n",
    "df_cm = pandas.DataFrame(cm, columns=numpy.unique(y_test), index = numpy.unique(y_test))\n",
    "sns.heatmap(df_cm, square=True, annot=True, fmt='d', cbar=False )\n",
    "pl.xlabel('predicted')\n",
    "pl.ylabel('true')\n",
    "pl.show()\n",
    "\n",
    "print('\\n clasification report:\\n', classification_report(y_test, predictions))\n",
    "print('\\n')        \n",
    "print('done \\n')\n",
    "#k-NN\n",
    "model2 = KNeighborsClassifier(n_neighbors=5, weights='uniform')\n",
    "model2.fit(X_train, y_train)\n",
    "predictions = model2.predict(X_test)\n",
    "print(\" ++++ Detailed classification report for the selected model ++++ \" )\n",
    "print(\"Algorithm %s \" % model2)\n",
    "print(\"This model was trained and tuned on the development set using CV.\")\n",
    "print(\"The following results are computed on the separate test set:\")\n",
    "\n",
    "predictions = model2.predict(X_test)\n",
    "cm = confusion_matrix(y_test, predictions)\n",
    "df_cm = pandas.DataFrame(cm, columns=numpy.unique(y_test), index = numpy.unique(y_test))\n",
    "sns.heatmap(df_cm, square=True, annot=True, fmt='d', cbar=False )\n",
    "pl.xlabel('predicted')\n",
    "pl.ylabel('true')\n",
    "pl.show()\n",
    "\n",
    "print('\\n clasification report:\\n', classification_report(y_test, predictions))\n",
    "print('\\n')        \n",
    "print('done \\n')"
   ]
  },
  {
   "cell_type": "code",
   "execution_count": 10,
   "metadata": {},
   "outputs": [
    {
     "name": "stdout",
     "output_type": "stream",
     "text": [
      "Reading list of algorithms to train ...\n",
      "done \n",
      "\n"
     ]
    }
   ],
   "source": [
    "#Will take the two models that have been chosen to be tested, logisitc regression and k-NN, and put them into a list to be used later.\n",
    "print('Reading list of algorithms to train ...')\n",
    "models = []\n",
    "models.append(('LR', LogisticRegression(multi_class='multinomial',  solver='lbfgs')))\n",
    "models.append(('kNN', KNeighborsClassifier(n_neighbors=5, weights='uniform')))\n",
    "print('done \\n')"
   ]
  },
  {
   "cell_type": "code",
   "execution_count": 11,
   "metadata": {},
   "outputs": [
    {
     "name": "stdout",
     "output_type": "stream",
     "text": [
      "Reading list of scoring methods to use during model development ...\n",
      "done \n",
      "\n"
     ]
    }
   ],
   "source": [
    "# The scoring method that would be used to compare the two models in cross-validation\n",
    "\n",
    "print('Reading list of scoring methods to use during model development ...')\n",
    "scoring = 'accuracy'\n",
    "print('done \\n')"
   ]
  },
  {
   "cell_type": "code",
   "execution_count": 12,
   "metadata": {},
   "outputs": [
    {
     "name": "stdout",
     "output_type": "stream",
     "text": [
      " ++ NOW WORKING ON ALGORITHM LR ++\n",
      "Splitting data into 5 folds\n",
      "Training model on each split\n"
     ]
    },
    {
     "name": "stderr",
     "output_type": "stream",
     "text": [
      "/project/dsi/apps/anaconda3/python-3.8/lib/python3.8/site-packages/sklearn/linear_model/_logistic.py:814: ConvergenceWarning: lbfgs failed to converge (status=1):\n",
      "STOP: TOTAL NO. of ITERATIONS REACHED LIMIT.\n",
      "\n",
      "Increase the number of iterations (max_iter) or scale the data as shown in:\n",
      "    https://scikit-learn.org/stable/modules/preprocessing.html\n",
      "Please also refer to the documentation for alternative solver options:\n",
      "    https://scikit-learn.org/stable/modules/linear_model.html#logistic-regression\n",
      "  n_iter_i = _check_optimize_result(\n",
      "/project/dsi/apps/anaconda3/python-3.8/lib/python3.8/site-packages/sklearn/linear_model/_logistic.py:814: ConvergenceWarning: lbfgs failed to converge (status=1):\n",
      "STOP: TOTAL NO. of ITERATIONS REACHED LIMIT.\n",
      "\n",
      "Increase the number of iterations (max_iter) or scale the data as shown in:\n",
      "    https://scikit-learn.org/stable/modules/preprocessing.html\n",
      "Please also refer to the documentation for alternative solver options:\n",
      "    https://scikit-learn.org/stable/modules/linear_model.html#logistic-regression\n",
      "  n_iter_i = _check_optimize_result(\n",
      "/project/dsi/apps/anaconda3/python-3.8/lib/python3.8/site-packages/sklearn/linear_model/_logistic.py:814: ConvergenceWarning: lbfgs failed to converge (status=1):\n",
      "STOP: TOTAL NO. of ITERATIONS REACHED LIMIT.\n",
      "\n",
      "Increase the number of iterations (max_iter) or scale the data as shown in:\n",
      "    https://scikit-learn.org/stable/modules/preprocessing.html\n",
      "Please also refer to the documentation for alternative solver options:\n",
      "    https://scikit-learn.org/stable/modules/linear_model.html#logistic-regression\n",
      "  n_iter_i = _check_optimize_result(\n",
      "/project/dsi/apps/anaconda3/python-3.8/lib/python3.8/site-packages/sklearn/linear_model/_logistic.py:814: ConvergenceWarning: lbfgs failed to converge (status=1):\n",
      "STOP: TOTAL NO. of ITERATIONS REACHED LIMIT.\n",
      "\n",
      "Increase the number of iterations (max_iter) or scale the data as shown in:\n",
      "    https://scikit-learn.org/stable/modules/preprocessing.html\n",
      "Please also refer to the documentation for alternative solver options:\n",
      "    https://scikit-learn.org/stable/modules/linear_model.html#logistic-regression\n",
      "  n_iter_i = _check_optimize_result(\n",
      "/project/dsi/apps/anaconda3/python-3.8/lib/python3.8/site-packages/sklearn/linear_model/_logistic.py:814: ConvergenceWarning: lbfgs failed to converge (status=1):\n",
      "STOP: TOTAL NO. of ITERATIONS REACHED LIMIT.\n",
      "\n",
      "Increase the number of iterations (max_iter) or scale the data as shown in:\n",
      "    https://scikit-learn.org/stable/modules/preprocessing.html\n",
      "Please also refer to the documentation for alternative solver options:\n",
      "    https://scikit-learn.org/stable/modules/linear_model.html#logistic-regression\n",
      "  n_iter_i = _check_optimize_result(\n"
     ]
    },
    {
     "name": "stdout",
     "output_type": "stream",
     "text": [
      "algorithm LR accuracy results: mean = 0.655727 (std = 0.006666)\n",
      " ++ NOW WORKING ON ALGORITHM kNN ++\n",
      "Splitting data into 5 folds\n",
      "Training model on each split\n",
      "algorithm kNN accuracy results: mean = 0.837225 (std = 0.009225)\n",
      "done \n",
      "\n"
     ]
    }
   ],
   "source": [
    "# Now it is time to develop (train and validate) the models on the formative data set there will be two models, the logistic regression model and the k-NN model\n",
    "\n",
    "k4folds = 5   # This will split our formative dataset into five parts;\n",
    "results = []\n",
    "names = []\n",
    "for name, model in models:   # Select each model in turn\n",
    "    print(\" ++ NOW WORKING ON ALGORITHM %s ++\" % name)\n",
    "    print(\"Splitting data into %s folds\" % k4folds)\n",
    "    kfold = model_selection.KFold(n_splits=k4folds, random_state=seed, shuffle=True)   # fit the model using four parts at a time and then validate it on the oher part that was set aside; and repeat five times.\n",
    "    print(\"Training model on each split\")\n",
    "    cv_results = model_selection.cross_val_score(model, X_train, y_train, cv=kfold, scoring=scoring)\n",
    "    results.append(cv_results)\n",
    "    names.append(name)\n",
    "    msg = \"algorithm %s %s results: mean = %f (std = %f)\" % (name, scoring, cv_results.mean(), cv_results.std())\n",
    "    print(msg)\n",
    "    \n",
    "print('done \\n') "
   ]
  },
  {
   "cell_type": "raw",
   "metadata": {},
   "source": [
    "4. Pick a model and a scoring method from part 3. Use cross-validation to evaluate the improvement/degradation of performance when you modify at least two hyperparameters (e.g., n_neighbors, weights, metric, penalty) as compared to the model’s default settings."
   ]
  },
  {
   "cell_type": "code",
   "execution_count": 13,
   "metadata": {},
   "outputs": [
    {
     "data": {
      "image/png": "[encoded data removed]",
      "text/plain": [
       "<Figure size 432x288 with 1 Axes>"
      ]
     },
     "metadata": {
      "needs_background": "light"
     },
     "output_type": "display_data"
    }
   ],
   "source": [
    "#Graphical comparison to see the difference in accuracy between the k-NN model and the logisitc regression model. The k-NN model did complete wipe the floor with the logistic regression.\n",
    "fig = pl.figure()\n",
    "fig.suptitle('Algorithm Comparison based on %s' % scoring)\n",
    "ax = fig.add_subplot(111)\n",
    "pl.boxplot(results)\n",
    "ax.set_xticklabels(names)\n",
    "pl.show()"
   ]
  },
  {
   "cell_type": "code",
   "execution_count": 14,
   "metadata": {},
   "outputs": [
    {
     "name": "stdout",
     "output_type": "stream",
     "text": [
      "Best parameters set found on development (formative) data set:\n",
      "{'n_neighbors': 3, 'weights': 'distance'}\n",
      "Grid scores on development (formative) data set:\n",
      "0.848 (+/-0.012) for {'n_neighbors': 3, 'weights': 'uniform'}\n",
      "0.857 (+/-0.010) for {'n_neighbors': 3, 'weights': 'distance'}\n",
      "0.833 (+/-0.011) for {'n_neighbors': 4, 'weights': 'uniform'}\n",
      "0.853 (+/-0.003) for {'n_neighbors': 4, 'weights': 'distance'}\n",
      "0.838 (+/-0.013) for {'n_neighbors': 5, 'weights': 'uniform'}\n",
      "0.853 (+/-0.005) for {'n_neighbors': 5, 'weights': 'distance'}\n",
      "0.828 (+/-0.017) for {'n_neighbors': 6, 'weights': 'uniform'}\n",
      "0.850 (+/-0.009) for {'n_neighbors': 6, 'weights': 'distance'}\n",
      "0.827 (+/-0.007) for {'n_neighbors': 7, 'weights': 'uniform'}\n",
      "0.850 (+/-0.010) for {'n_neighbors': 7, 'weights': 'distance'}\n",
      "0.820 (+/-0.016) for {'n_neighbors': 8, 'weights': 'uniform'}\n",
      "0.849 (+/-0.010) for {'n_neighbors': 8, 'weights': 'distance'}\n",
      "0.816 (+/-0.009) for {'n_neighbors': 9, 'weights': 'uniform'}\n",
      "0.846 (+/-0.010) for {'n_neighbors': 9, 'weights': 'distance'}\n",
      "0.808 (+/-0.014) for {'n_neighbors': 10, 'weights': 'uniform'}\n",
      "0.843 (+/-0.013) for {'n_neighbors': 10, 'weights': 'distance'}\n",
      "\n",
      "\n",
      "Detailed classification report:\n",
      "The model was trained and tuned using cross-validation on the full development (formative) data set.\n",
      "The reported summative evaluation scores were computed on a separate test data set.\n",
      "\n",
      "\n",
      "              precision    recall  f1-score   support\n",
      "\n",
      "           1       0.81      0.82      0.81       133\n",
      "           2       0.90      0.90      0.90        30\n",
      "           3       0.85      0.84      0.85       181\n",
      "           4       0.83      0.88      0.85       187\n",
      "           5       0.92      0.89      0.90       581\n",
      "           7       0.62      0.91      0.74        23\n",
      "\n",
      "    accuracy                           0.87      1135\n",
      "   macro avg       0.82      0.87      0.84      1135\n",
      "weighted avg       0.88      0.87      0.87      1135\n",
      "\n",
      "done \n",
      "\n"
     ]
    }
   ],
   "source": [
    "# The Selected model was the k-NN model as it was more accurate\n",
    "selected_model = KNeighborsClassifier()\n",
    "parameters = {'n_neighbors':[3, 4, 5, 6, 7, 8, 9, 10], 'weights':['uniform','distance']}\n",
    "clf = GridSearchCV(selected_model, parameters, cv=5, scoring=scoring)\n",
    "clf.fit(X_train, y_train)\n",
    "\n",
    "print(\"Best parameters set found on development (formative) data set:\")\n",
    "print(clf.best_params_)\n",
    "print(\"Grid scores on development (formative) data set:\")\n",
    "means = clf.cv_results_['mean_test_score']\n",
    "stds = clf.cv_results_['std_test_score']\n",
    "for mean, std, params in zip(means, stds, clf.cv_results_['params']):\n",
    "    print(\"%0.3f (+/-%0.03f) for %r\"\n",
    "        % (mean, std * 2, params))\n",
    "print('\\n')\n",
    "\n",
    "# Report the independent final verdict using the summative data set\n",
    "print(\"Detailed classification report:\")\n",
    "print(\"The model was trained and tuned using cross-validation on the full development (formative) data set.\")\n",
    "print(\"The reported summative evaluation scores were computed on a separate test data set.\")\n",
    "print('\\n')\n",
    "y_true, y_pred = y_test, clf.predict(X_test)\n",
    "print(classification_report(y_true, y_pred))\n",
    "print('done \\n')"
   ]
  },
  {
   "cell_type": "raw",
   "metadata": {},
   "source": [
    "5. Test the performance of the best model+hyperparameters combination you found in part 4, using the test set you created in part 2. Discuss your overall results."
   ]
  },
  {
   "cell_type": "code",
   "execution_count": 15,
   "metadata": {},
   "outputs": [
    {
     "name": "stdout",
     "output_type": "stream",
     "text": [
      " ++++ Detailed classification report for the selected model ++++ \n",
      "Algorithm KNeighborsClassifier(n_neighbors=3, weights='distance') \n",
      "This model was trained and tuned on the development set using CV.\n",
      "The following results are computed on the separate test set:\n"
     ]
    },
    {
     "data": {
      "image/png": "[encoded data removed]",
      "text/plain": [
       "<Figure size 432x288 with 1 Axes>"
      ]
     },
     "metadata": {
      "needs_background": "light"
     },
     "output_type": "display_data"
    },
    {
     "name": "stdout",
     "output_type": "stream",
     "text": [
      "\n",
      " clasification report:\n",
      "               precision    recall  f1-score   support\n",
      "\n",
      "           1       0.81      0.82      0.81       133\n",
      "           2       0.90      0.90      0.90        30\n",
      "           3       0.85      0.84      0.85       181\n",
      "           4       0.83      0.88      0.85       187\n",
      "           5       0.92      0.89      0.90       581\n",
      "           7       0.62      0.91      0.74        23\n",
      "\n",
      "    accuracy                           0.87      1135\n",
      "   macro avg       0.82      0.87      0.84      1135\n",
      "weighted avg       0.88      0.87      0.87      1135\n",
      "\n",
      "\n",
      "\n",
      "done \n",
      "\n"
     ]
    }
   ],
   "source": [
    "model2 = KNeighborsClassifier(n_neighbors=3, weights='distance')\n",
    "model2.fit(X_train, y_train)\n",
    "\n",
    "#Final training for the k-NN model with result from the previous cell\n",
    "predictions = model2.predict(X_test)\n",
    "print(\" ++++ Detailed classification report for the selected model ++++ \" )\n",
    "print(\"Algorithm %s \" % model2)\n",
    "print(\"This model was trained and tuned on the development set using CV.\")\n",
    "print(\"The following results are computed on the separate test set:\")\n",
    "#\n",
    "predictions = model2.predict(X_test)\n",
    "cm = confusion_matrix(y_test, predictions)\n",
    "df_cm = pandas.DataFrame(cm, columns=numpy.unique(y_test), index = numpy.unique(y_test))\n",
    "sns.heatmap(df_cm, square=True, annot=True, fmt='d', cbar=False )\n",
    "pl.xlabel('predicted')\n",
    "pl.ylabel('true')\n",
    "pl.show()\n",
    "#\n",
    "print('\\n clasification report:\\n', classification_report(y_test, predictions))\n",
    "print('\\n')        \n",
    "print('done \\n')"
   ]
  },
  {
   "cell_type": "raw",
   "metadata": {},
   "source": [
    "The k-NN in part 2 used (n_neighbors=5, weights='uniform') and the best result from cross-validation from part 4 gave (n_neighbors=3, weights='distance'). The classification report between the two k-NN models was very little but there were improvements. Overall all 3 of the macro avg and weighted avg of percision, recall, and f1 were an improvement from part 2. There were some areas where no improvement can be seen. Percision from part 4 compared to part 2 has some labels increase in percision but others decrease. Other than that, there was also an increase in accuracy. Conclusively there was a positive increase using (n_neighbors=3, weights='distance') from part 4 compared to part 2."
   ]
  }
 ],
 "metadata": {
  "kernelspec": {
   "display_name": "Python 3.8",
   "language": "python",
   "name": "python3.8"
  },
  "language_info": {
   "codemirror_mode": {
    "name": "ipython",
    "version": 3
   },
   "file_extension": ".py",
   "mimetype": "text/x-python",
   "name": "python",
   "nbconvert_exporter": "python",
   "pygments_lexer": "ipython3",
   "version": "3.8.13"
  },
  "toc": {
   "base_numbering": 1,
   "nav_menu": {},
   "number_sections": true,
   "sideBar": true,
   "skip_h1_title": false,
   "title_cell": "Table of Contents",
   "title_sidebar": "Contents",
   "toc_cell": false,
   "toc_position": {},
   "toc_section_display": true,
   "toc_window_display": false
  }
 },
 "nbformat": 4,
 "nbformat_minor": 4
}
