{
 "cells": [
  {
   "cell_type": "code",
   "execution_count": 1,
   "id": "7b494fa9-0757-49a7-878f-f8ff1c42c710",
   "metadata": {},
   "outputs": [],
   "source": [
    "# Import libraries\n",
    "\n",
    "# Pandas for data handling\n",
    "import pandas # https://pandas.pydata.org/\n",
    "# from pandas.plotting import scatter_matrix\n",
    "\n",
    "# pretty tables\n",
    "from IPython.display import display\n",
    "\n",
    "# NumPy for numerical computing\n",
    "import numpy # https://numpy.org/\n",
    "\n",
    "# MatPlotLib+Seaborn for visualization\n",
    "import matplotlib.pyplot as pl  # https://matplotlib.org/\n",
    "import seaborn as sns\n",
    "\n",
    "# assessment\n",
    "from sklearn import model_selection # for model comparisons\n",
    "from sklearn.model_selection import GridSearchCV\n",
    "from sklearn.model_selection import train_test_split\n",
    "\n",
    "from sklearn.metrics import accuracy_score\n",
    "from sklearn.metrics import confusion_matrix\n",
    "from sklearn.metrics import classification_report\n",
    "from sklearn.metrics import cohen_kappa_score\n",
    "\n",
    "# algorithms\n",
    "from sklearn import tree\n",
    "from sklearn.svm import SVC\n",
    "from sklearn.tree import DecisionTreeClassifier\n",
    "from sklearn.ensemble import RandomForestClassifier\n",
    "from sklearn.neural_network import MLPClassifier\n",
    "\n",
    "\n",
    "# data preprocessing / feature selection\n",
    "from sklearn.preprocessing import StandardScaler\n",
    "from sklearn.preprocessing import MinMaxScaler\n",
    "from sklearn.decomposition import PCA\n",
    "\n",
    "# combining\n",
    "from sklearn.pipeline import make_pipeline\n",
    "\n"
   ]
  },
  {
   "cell_type": "code",
   "execution_count": 2,
   "id": "d2f8f5f3-34c6-4615-ab7c-881aa5a77dcc",
   "metadata": {},
   "outputs": [
    {
     "name": "stdout",
     "output_type": "stream",
     "text": [
      "Loading data from file ...\n",
      "done \n",
      "\n",
      "Removing rows with missing data ...\n",
      "done \n",
      "\n"
     ]
    }
   ],
   "source": [
    "print('Loading data from file ...')  # Now let's load the data\n",
    "dataset = pandas.read_csv('winequality-white.csv') # default is header=infer, change if column names are not in first row\n",
    "print('done \\n')\n",
    "\n",
    "print('Removing rows with missing data ...')  # Make things simple\n",
    "dataset = dataset.dropna()  # default is to drop any row that contains at least one missing value\n",
    "print('done \\n')"
   ]
  },
  {
   "cell_type": "code",
   "execution_count": 3,
   "id": "4d5a2194-cda4-4008-9960-4e3b19accf22",
   "metadata": {},
   "outputs": [
    {
     "name": "stdout",
     "output_type": "stream",
     "text": [
      "Reading list of problem variables X and Y...\n",
      "done \n",
      "\n",
      "Partitioning data into parts: formative (for development) and summative (for testing) ...\n",
      "done \n",
      "\n"
     ]
    }
   ],
   "source": [
    "# Let's set up a problem: Can we predict 'quality' using these three features: 'fixed acidity', 'alcohol', 'pH' ?\n",
    "\n",
    "print('Reading list of problem variables X and Y...')\n",
    "X_name = [ 'fixed acidity', 'alcohol', 'pH' ] # columns to focus on as predictors\n",
    "X = dataset[X_name]   # only keep these columns as features\n",
    "y_name = 'quality'     # column to focus on as target\n",
    "y = dataset[y_name]   # only keep this column as label \n",
    "print('done \\n')\n",
    "\n",
    "# Split-out test dataset\n",
    "\n",
    "# We reset the random number seed before each run to ensure that the evaluation of each algorithm is performed using exactly the same data splits. It ensures the results are directly comparable.\n",
    "seed = 27\n",
    "\n",
    "# Train, test split\n",
    "print('Partitioning data into parts: formative (for development) and summative (for testing) ...')\n",
    "test_size = 0.20   # means 20 percent\n",
    "\n",
    "X_train, X_test, y_train, y_test = model_selection.train_test_split(X, y, test_size=test_size, random_state=seed)\n",
    "print('done \\n')"
   ]
  },
  {
   "cell_type": "raw",
   "id": "a1ecebc6-4bd5-4ffe-b9df-9e8ae4cdb580",
   "metadata": {},
   "source": [
    "1. Train and tune the MLPClassifier (via cross-validation) using at least three different\n",
    "combinations of architecture choices (e.g., number of layers, # of neurons per\n",
    "layer, activation function)."
   ]
  },
  {
   "cell_type": "code",
   "execution_count": 4,
   "id": "576a22ff-0752-4848-ae98-613812571a1a",
   "metadata": {},
   "outputs": [
    {
     "name": "stdout",
     "output_type": "stream",
     "text": [
      "Reading list of algorithms to train ...\n",
      "done \n",
      "\n"
     ]
    }
   ],
   "source": [
    "#Will take the two models that have been chosen to be tested\n",
    "print('Reading list of algorithms to train ...')\n",
    "models = []\n",
    "models.append(( 'MLP', MLPClassifier(hidden_layer_sizes=(100,), \n",
    "                                     activation='relu',  \n",
    "                                     ) )) #Basic default for all\n",
    "print('done \\n')"
   ]
  },
  {
   "cell_type": "code",
   "execution_count": 5,
   "id": "0eb63b68-0d77-4948-bd45-784c3efedc17",
   "metadata": {},
   "outputs": [
    {
     "name": "stdout",
     "output_type": "stream",
     "text": [
      "Reading list of scoring methods to use during model development ...\n",
      "done \n",
      "\n"
     ]
    }
   ],
   "source": [
    "print('Reading list of scoring methods to use during model development ...')\n",
    "scoring = 'accuracy'\n",
    "print('done \\n')"
   ]
  },
  {
   "cell_type": "code",
   "execution_count": 6,
   "id": "14fb854d-72e9-4486-a331-d44a11089493",
   "metadata": {},
   "outputs": [
    {
     "name": "stdout",
     "output_type": "stream",
     "text": [
      " ++ NOW WORKING ON ALGORITHM MLP ++\n",
      "Splitting data into 5 folds\n",
      "Training model on each split\n",
      "algorithm MLP accuracy results: mean = 0.477541 (std = 0.009491)\n",
      "done \n",
      "\n"
     ]
    }
   ],
   "source": [
    "# Now it is time to develop (train and validate) the models on the formative data set there will be two models\n",
    "\n",
    "k4folds = 5   # This will split our formative dataset into five parts;\n",
    "results = []\n",
    "names = []\n",
    "for name, model in models:   # Select each model in turn\n",
    "    print(\" ++ NOW WORKING ON ALGORITHM %s ++\" % name)\n",
    "    print(\"Splitting data into %s folds\" % k4folds)\n",
    "    kfold = model_selection.KFold(n_splits=k4folds, random_state=seed, shuffle=True)   # fit the model using four parts at a time and then validate it on the oher part that was set aside; and repeat five times.\n",
    "    print(\"Training model on each split\")\n",
    "    cv_results = model_selection.cross_val_score(model, X_train, y_train, cv=kfold, scoring=scoring)\n",
    "    results.append(cv_results)\n",
    "    names.append(name)\n",
    "    msg = \"algorithm %s %s results: mean = %f (std = %f)\" % (name, scoring, cv_results.mean(), cv_results.std())\n",
    "    print(msg)\n",
    "    \n",
    "print('done \\n') "
   ]
  },
  {
   "cell_type": "code",
   "execution_count": 13,
   "id": "7781716d-2f06-426d-a594-16bc19312081",
   "metadata": {},
   "outputs": [
    {
     "name": "stdout",
     "output_type": "stream",
     "text": [
      "Now tuning hyperparameters...\n"
     ]
    },
    {
     "name": "stderr",
     "output_type": "stream",
     "text": [
      "/project/dsi/apps/anaconda3/python-3.8/lib/python3.8/site-packages/sklearn/model_selection/_split.py:676: UserWarning: The least populated class in y has only 4 members, which is less than n_splits=5.\n",
      "  warnings.warn(\n"
     ]
    },
    {
     "name": "stdout",
     "output_type": "stream",
     "text": [
      "Best hyperparameters found on development set:\n",
      "{'activation': 'tanh', 'hidden_layer_sizes': (100, 100)}\n",
      "Grid scores on development set:\n",
      "0.479 (+/-0.031) for {'activation': 'identity', 'hidden_layer_sizes': (100,)}\n",
      "0.478 (+/-0.029) for {'activation': 'identity', 'hidden_layer_sizes': (100, 100)}\n",
      "0.474 (+/-0.011) for {'activation': 'identity', 'hidden_layer_sizes': (100, 50)}\n",
      "0.465 (+/-0.027) for {'activation': 'identity', 'hidden_layer_sizes': (50, 50)}\n",
      "0.488 (+/-0.027) for {'activation': 'logistic', 'hidden_layer_sizes': (100,)}\n",
      "0.482 (+/-0.022) for {'activation': 'logistic', 'hidden_layer_sizes': (100, 100)}\n",
      "0.490 (+/-0.025) for {'activation': 'logistic', 'hidden_layer_sizes': (100, 50)}\n",
      "0.483 (+/-0.023) for {'activation': 'logistic', 'hidden_layer_sizes': (50, 50)}\n",
      "0.479 (+/-0.022) for {'activation': 'tanh', 'hidden_layer_sizes': (100,)}\n",
      "0.490 (+/-0.019) for {'activation': 'tanh', 'hidden_layer_sizes': (100, 100)}\n",
      "0.485 (+/-0.012) for {'activation': 'tanh', 'hidden_layer_sizes': (100, 50)}\n",
      "0.477 (+/-0.030) for {'activation': 'tanh', 'hidden_layer_sizes': (50, 50)}\n",
      "0.474 (+/-0.037) for {'activation': 'relu', 'hidden_layer_sizes': (100,)}\n",
      "0.465 (+/-0.024) for {'activation': 'relu', 'hidden_layer_sizes': (100, 100)}\n",
      "0.480 (+/-0.029) for {'activation': 'relu', 'hidden_layer_sizes': (100, 50)}\n",
      "0.468 (+/-0.027) for {'activation': 'relu', 'hidden_layer_sizes': (50, 50)}\n",
      "done \n",
      "\n"
     ]
    }
   ],
   "source": [
    "#Tuning the MLP model\n",
    "selected_model = MLPClassifier()\n",
    "hyperparameters = {'hidden_layer_sizes':[(100,), (100, 100), (100, 50), (50, 50)], 'activation':['identity', 'logistic', 'tanh', 'relu'] }\n",
    "\n",
    "\n",
    "\n",
    "print(\"Now tuning hyperparameters...\")\n",
    "mlp = GridSearchCV(selected_model, hyperparameters, cv=5, scoring=scoring)\n",
    "\n",
    "   \n",
    "mlp.fit(X_train, y_train)\n",
    "\n",
    "print(\"Best hyperparameters found on development set:\")\n",
    "print(mlp.best_params_)\n",
    "print(\"Grid scores on development set:\")\n",
    "means = mlp.cv_results_['mean_test_score']\n",
    "stds = mlp.cv_results_['std_test_score']\n",
    "for mean, std, params in zip(means, stds, mlp.cv_results_['params']):\n",
    "    print(\"%0.3f (+/-%0.03f) for %r\"\n",
    "        % (mean, std * 2, params))\n",
    "print('done \\n')\n",
    "\n",
    "tuned_model = mlp.best_estimator_"
   ]
  },
  {
   "cell_type": "raw",
   "id": "2bc74c08-3b00-4ee0-bd06-9fd903980161",
   "metadata": {},
   "source": [
    "Best hyperparameters found on development set:\n",
    "{'activation': 'tanh', 'hidden_layer_sizes': (100, 100)}\n",
    "0.490 (+/-0.019) for {'activation': 'tanh', 'hidden_layer_sizes': (100, 100)}"
   ]
  },
  {
   "cell_type": "raw",
   "id": "2ca8f898-b656-4755-b93d-59b7a661e098",
   "metadata": {},
   "source": [
    "2. Study (via cross-validation) and describe the performance impact of varying at\n",
    "least three different combinations of optimizer parameter values (e.g., solver,\n",
    "epoch, learning rate) for one of the architectures in Step 1. "
   ]
  },
  {
   "cell_type": "code",
   "execution_count": 15,
   "id": "5f7dbe62-52b2-4a55-9546-9195fc9ff736",
   "metadata": {},
   "outputs": [
    {
     "name": "stdout",
     "output_type": "stream",
     "text": [
      "Reading list of algorithms to train ...\n",
      "done \n",
      "\n"
     ]
    }
   ],
   "source": [
    "print('Reading list of algorithms to train ...')\n",
    "models = []\n",
    "models.append(( 'lbfgs100', MLPClassifier(hidden_layer_sizes=(100, 100), \n",
    "                                     activation='tanh',\n",
    "                                     solver='lbfgs',\n",
    "                                     max_iter=100,\n",
    "                                     ) )) \n",
    "models.append(( 'sgb100', MLPClassifier(hidden_layer_sizes=(100, 100), \n",
    "                                     activation='tanh',\n",
    "                                     solver='sgd',\n",
    "                                     max_iter=100,\n",
    "                                     ) )) \n",
    "models.append(( 'lbfgs50', MLPClassifier(hidden_layer_sizes=(100, 100), \n",
    "                                     activation='tanh',\n",
    "                                     solver='lbfgs',\n",
    "                                     max_iter=50,\n",
    "                                     ) )) \n",
    "models.append(( 'sgb50', MLPClassifier(hidden_layer_sizes=(100, 100), \n",
    "                                     activation='tanh',\n",
    "                                     solver='sgb',\n",
    "                                     max_iter=50,\n",
    "                                     ) )) \n",
    "print('done \\n')"
   ]
  },
  {
   "cell_type": "code",
   "execution_count": 16,
   "id": "b2df9d92-7dc1-4b58-abc0-6f10c2da23c9",
   "metadata": {},
   "outputs": [
    {
     "name": "stdout",
     "output_type": "stream",
     "text": [
      "Reading list of scoring methods to use during model development ...\n",
      "done \n",
      "\n"
     ]
    }
   ],
   "source": [
    "print('Reading list of scoring methods to use during model development ...')\n",
    "scoring = 'accuracy'\n",
    "print('done \\n')"
   ]
  },
  {
   "cell_type": "code",
   "execution_count": 17,
   "id": "c79cdb5e-5347-4068-8ddc-9f02857184d2",
   "metadata": {},
   "outputs": [
    {
     "name": "stdout",
     "output_type": "stream",
     "text": [
      " ++ NOW WORKING ON ALGORITHM lbfgs100 ++\n",
      "Splitting data into 5 folds\n",
      "Training model on each split\n"
     ]
    },
    {
     "name": "stderr",
     "output_type": "stream",
     "text": [
      "/project/dsi/apps/anaconda3/python-3.8/lib/python3.8/site-packages/sklearn/neural_network/_multilayer_perceptron.py:549: ConvergenceWarning: lbfgs failed to converge (status=1):\n",
      "STOP: TOTAL NO. of ITERATIONS REACHED LIMIT.\n",
      "\n",
      "Increase the number of iterations (max_iter) or scale the data as shown in:\n",
      "    https://scikit-learn.org/stable/modules/preprocessing.html\n",
      "  self.n_iter_ = _check_optimize_result(\"lbfgs\", opt_res, self.max_iter)\n",
      "/project/dsi/apps/anaconda3/python-3.8/lib/python3.8/site-packages/sklearn/neural_network/_multilayer_perceptron.py:549: ConvergenceWarning: lbfgs failed to converge (status=1):\n",
      "STOP: TOTAL NO. of ITERATIONS REACHED LIMIT.\n",
      "\n",
      "Increase the number of iterations (max_iter) or scale the data as shown in:\n",
      "    https://scikit-learn.org/stable/modules/preprocessing.html\n",
      "  self.n_iter_ = _check_optimize_result(\"lbfgs\", opt_res, self.max_iter)\n",
      "/project/dsi/apps/anaconda3/python-3.8/lib/python3.8/site-packages/sklearn/neural_network/_multilayer_perceptron.py:549: ConvergenceWarning: lbfgs failed to converge (status=1):\n",
      "STOP: TOTAL NO. of ITERATIONS REACHED LIMIT.\n",
      "\n",
      "Increase the number of iterations (max_iter) or scale the data as shown in:\n",
      "    https://scikit-learn.org/stable/modules/preprocessing.html\n",
      "  self.n_iter_ = _check_optimize_result(\"lbfgs\", opt_res, self.max_iter)\n",
      "/project/dsi/apps/anaconda3/python-3.8/lib/python3.8/site-packages/sklearn/neural_network/_multilayer_perceptron.py:549: ConvergenceWarning: lbfgs failed to converge (status=1):\n",
      "STOP: TOTAL NO. of ITERATIONS REACHED LIMIT.\n",
      "\n",
      "Increase the number of iterations (max_iter) or scale the data as shown in:\n",
      "    https://scikit-learn.org/stable/modules/preprocessing.html\n",
      "  self.n_iter_ = _check_optimize_result(\"lbfgs\", opt_res, self.max_iter)\n",
      "/project/dsi/apps/anaconda3/python-3.8/lib/python3.8/site-packages/sklearn/neural_network/_multilayer_perceptron.py:549: ConvergenceWarning: lbfgs failed to converge (status=1):\n",
      "STOP: TOTAL NO. of ITERATIONS REACHED LIMIT.\n",
      "\n",
      "Increase the number of iterations (max_iter) or scale the data as shown in:\n",
      "    https://scikit-learn.org/stable/modules/preprocessing.html\n",
      "  self.n_iter_ = _check_optimize_result(\"lbfgs\", opt_res, self.max_iter)\n"
     ]
    },
    {
     "name": "stdout",
     "output_type": "stream",
     "text": [
      "algorithm lbfgs100 accuracy results: mean = 0.490048 (std = 0.007421)\n",
      " ++ NOW WORKING ON ALGORITHM sgb100 ++\n",
      "Splitting data into 5 folds\n",
      "Training model on each split\n"
     ]
    },
    {
     "name": "stderr",
     "output_type": "stream",
     "text": [
      "/project/dsi/apps/anaconda3/python-3.8/lib/python3.8/site-packages/sklearn/neural_network/_multilayer_perceptron.py:692: ConvergenceWarning: Stochastic Optimizer: Maximum iterations (100) reached and the optimization hasn't converged yet.\n",
      "  warnings.warn(\n",
      "/project/dsi/apps/anaconda3/python-3.8/lib/python3.8/site-packages/sklearn/neural_network/_multilayer_perceptron.py:692: ConvergenceWarning: Stochastic Optimizer: Maximum iterations (100) reached and the optimization hasn't converged yet.\n",
      "  warnings.warn(\n",
      "/project/dsi/apps/anaconda3/python-3.8/lib/python3.8/site-packages/sklearn/neural_network/_multilayer_perceptron.py:692: ConvergenceWarning: Stochastic Optimizer: Maximum iterations (100) reached and the optimization hasn't converged yet.\n",
      "  warnings.warn(\n",
      "/project/dsi/apps/anaconda3/python-3.8/lib/python3.8/site-packages/sklearn/neural_network/_multilayer_perceptron.py:692: ConvergenceWarning: Stochastic Optimizer: Maximum iterations (100) reached and the optimization hasn't converged yet.\n",
      "  warnings.warn(\n",
      "/project/dsi/apps/anaconda3/python-3.8/lib/python3.8/site-packages/sklearn/neural_network/_multilayer_perceptron.py:692: ConvergenceWarning: Stochastic Optimizer: Maximum iterations (100) reached and the optimization hasn't converged yet.\n",
      "  warnings.warn(\n"
     ]
    },
    {
     "name": "stdout",
     "output_type": "stream",
     "text": [
      "algorithm sgb100 accuracy results: mean = 0.483158 (std = 0.012986)\n",
      " ++ NOW WORKING ON ALGORITHM lbfgs50 ++\n",
      "Splitting data into 5 folds\n",
      "Training model on each split\n"
     ]
    },
    {
     "name": "stderr",
     "output_type": "stream",
     "text": [
      "/project/dsi/apps/anaconda3/python-3.8/lib/python3.8/site-packages/sklearn/neural_network/_multilayer_perceptron.py:549: ConvergenceWarning: lbfgs failed to converge (status=1):\n",
      "STOP: TOTAL NO. of ITERATIONS REACHED LIMIT.\n",
      "\n",
      "Increase the number of iterations (max_iter) or scale the data as shown in:\n",
      "    https://scikit-learn.org/stable/modules/preprocessing.html\n",
      "  self.n_iter_ = _check_optimize_result(\"lbfgs\", opt_res, self.max_iter)\n",
      "/project/dsi/apps/anaconda3/python-3.8/lib/python3.8/site-packages/sklearn/neural_network/_multilayer_perceptron.py:549: ConvergenceWarning: lbfgs failed to converge (status=1):\n",
      "STOP: TOTAL NO. of ITERATIONS REACHED LIMIT.\n",
      "\n",
      "Increase the number of iterations (max_iter) or scale the data as shown in:\n",
      "    https://scikit-learn.org/stable/modules/preprocessing.html\n",
      "  self.n_iter_ = _check_optimize_result(\"lbfgs\", opt_res, self.max_iter)\n",
      "/project/dsi/apps/anaconda3/python-3.8/lib/python3.8/site-packages/sklearn/neural_network/_multilayer_perceptron.py:549: ConvergenceWarning: lbfgs failed to converge (status=1):\n",
      "STOP: TOTAL NO. of ITERATIONS REACHED LIMIT.\n",
      "\n",
      "Increase the number of iterations (max_iter) or scale the data as shown in:\n",
      "    https://scikit-learn.org/stable/modules/preprocessing.html\n",
      "  self.n_iter_ = _check_optimize_result(\"lbfgs\", opt_res, self.max_iter)\n",
      "/project/dsi/apps/anaconda3/python-3.8/lib/python3.8/site-packages/sklearn/neural_network/_multilayer_perceptron.py:549: ConvergenceWarning: lbfgs failed to converge (status=1):\n",
      "STOP: TOTAL NO. of ITERATIONS REACHED LIMIT.\n",
      "\n",
      "Increase the number of iterations (max_iter) or scale the data as shown in:\n",
      "    https://scikit-learn.org/stable/modules/preprocessing.html\n",
      "  self.n_iter_ = _check_optimize_result(\"lbfgs\", opt_res, self.max_iter)\n"
     ]
    },
    {
     "name": "stdout",
     "output_type": "stream",
     "text": [
      "algorithm lbfgs50 accuracy results: mean = 0.488265 (std = 0.011765)\n",
      " ++ NOW WORKING ON ALGORITHM sgb50 ++\n",
      "Splitting data into 5 folds\n",
      "Training model on each split\n",
      "algorithm sgb50 accuracy results: mean = nan (std = nan)\n",
      "done \n",
      "\n"
     ]
    },
    {
     "name": "stderr",
     "output_type": "stream",
     "text": [
      "/project/dsi/apps/anaconda3/python-3.8/lib/python3.8/site-packages/sklearn/neural_network/_multilayer_perceptron.py:549: ConvergenceWarning: lbfgs failed to converge (status=1):\n",
      "STOP: TOTAL NO. of ITERATIONS REACHED LIMIT.\n",
      "\n",
      "Increase the number of iterations (max_iter) or scale the data as shown in:\n",
      "    https://scikit-learn.org/stable/modules/preprocessing.html\n",
      "  self.n_iter_ = _check_optimize_result(\"lbfgs\", opt_res, self.max_iter)\n",
      "/project/dsi/apps/anaconda3/python-3.8/lib/python3.8/site-packages/sklearn/model_selection/_validation.py:372: FitFailedWarning: \n",
      "5 fits failed out of a total of 5.\n",
      "The score on these train-test partitions for these parameters will be set to nan.\n",
      "If these failures are not expected, you can try to debug them by setting error_score='raise'.\n",
      "\n",
      "Below are more details about the failures:\n",
      "--------------------------------------------------------------------------------\n",
      "5 fits failed with the following error:\n",
      "Traceback (most recent call last):\n",
      "  File \"/project/dsi/apps/anaconda3/python-3.8/lib/python3.8/site-packages/sklearn/model_selection/_validation.py\", line 680, in _fit_and_score\n",
      "    estimator.fit(X_train, y_train, **fit_params)\n",
      "  File \"/project/dsi/apps/anaconda3/python-3.8/lib/python3.8/site-packages/sklearn/neural_network/_multilayer_perceptron.py\", line 752, in fit\n",
      "    return self._fit(X, y, incremental=False)\n",
      "  File \"/project/dsi/apps/anaconda3/python-3.8/lib/python3.8/site-packages/sklearn/neural_network/_multilayer_perceptron.py\", line 384, in _fit\n",
      "    self._validate_hyperparameters()\n",
      "  File \"/project/dsi/apps/anaconda3/python-3.8/lib/python3.8/site-packages/sklearn/neural_network/_multilayer_perceptron.py\", line 501, in _validate_hyperparameters\n",
      "    raise ValueError(\n",
      "ValueError: The solver sgb is not supported.  Expected one of: sgd, adam, lbfgs\n",
      "\n",
      "  warnings.warn(some_fits_failed_message, FitFailedWarning)\n"
     ]
    }
   ],
   "source": [
    "# Now it is time to develop (train and validate) the models on the formative data set there will be two models\n",
    "\n",
    "k4folds = 5   # This will split our formative dataset into five parts;\n",
    "results = []\n",
    "names = []\n",
    "for name, model in models:   # Select each model in turn\n",
    "    print(\" ++ NOW WORKING ON ALGORITHM %s ++\" % name)\n",
    "    print(\"Splitting data into %s folds\" % k4folds)\n",
    "    kfold = model_selection.KFold(n_splits=k4folds, random_state=seed, shuffle=True)   # fit the model using four parts at a time and then validate it on the oher part that was set aside; and repeat five times.\n",
    "    print(\"Training model on each split\")\n",
    "    cv_results = model_selection.cross_val_score(model, X_train, y_train, cv=kfold, scoring=scoring)\n",
    "    results.append(cv_results)\n",
    "    names.append(name)\n",
    "    msg = \"algorithm %s %s results: mean = %f (std = %f)\" % (name, scoring, cv_results.mean(), cv_results.std())\n",
    "    print(msg)\n",
    "    \n",
    "print('done \\n') "
   ]
  },
  {
   "cell_type": "raw",
   "id": "9b935037-3917-4766-a968-3d5aeea2f066",
   "metadata": {},
   "source": [
    "best: algorithm lbfgs100 accuracy results: mean = 0.490048 (std = 0.007421). Sorry bout the warnings, i couldnt figure out how to do the warning ignore function"
   ]
  },
  {
   "cell_type": "code",
   "execution_count": 18,
   "id": "b881ecc0-3dcf-47b2-8da1-916310816d22",
   "metadata": {},
   "outputs": [
    {
     "name": "stderr",
     "output_type": "stream",
     "text": [
      "/project/dsi/apps/anaconda3/python-3.8/lib/python3.8/site-packages/sklearn/neural_network/_multilayer_perceptron.py:549: ConvergenceWarning: lbfgs failed to converge (status=1):\n",
      "STOP: TOTAL NO. of ITERATIONS REACHED LIMIT.\n",
      "\n",
      "Increase the number of iterations (max_iter) or scale the data as shown in:\n",
      "    https://scikit-learn.org/stable/modules/preprocessing.html\n",
      "  self.n_iter_ = _check_optimize_result(\"lbfgs\", opt_res, self.max_iter)\n"
     ]
    },
    {
     "name": "stdout",
     "output_type": "stream",
     "text": [
      " ++++ Detailed classification report for the selected model ++++ \n",
      "Algorithm MLPClassifier(activation='tanh', hidden_layer_sizes=(100, 100), max_iter=100,\n",
      "              solver='lbfgs') \n",
      "This model was trained and tuned on the development set using CV.\n",
      "The following results are computed on the separate test set:\n"
     ]
    },
    {
     "data": {
      "image/png": "[encoded data removed]",
      "text/plain": [
       "<Figure size 432x288 with 1 Axes>"
      ]
     },
     "metadata": {
      "needs_background": "light"
     },
     "output_type": "display_data"
    },
    {
     "name": "stdout",
     "output_type": "stream",
     "text": [
      "\n",
      " clasification report:\n",
      "               precision    recall  f1-score   support\n",
      "\n",
      "           3       0.00      0.00      0.00         4\n",
      "           4       0.00      0.00      0.00        27\n",
      "           5       0.45      0.61      0.52       264\n",
      "           6       0.54      0.60      0.57       471\n",
      "           7       0.49      0.30      0.37       175\n",
      "           8       0.00      0.00      0.00        38\n",
      "           9       0.00      0.00      0.00         1\n",
      "\n",
      "    accuracy                           0.51       980\n",
      "   macro avg       0.21      0.22      0.21       980\n",
      "weighted avg       0.47      0.51      0.48       980\n",
      "\n",
      "\n",
      "\n",
      "done \n",
      "\n"
     ]
    },
    {
     "name": "stderr",
     "output_type": "stream",
     "text": [
      "/project/dsi/apps/anaconda3/python-3.8/lib/python3.8/site-packages/sklearn/metrics/_classification.py:1318: UndefinedMetricWarning: Precision and F-score are ill-defined and being set to 0.0 in labels with no predicted samples. Use `zero_division` parameter to control this behavior.\n",
      "  _warn_prf(average, modifier, msg_start, len(result))\n",
      "/project/dsi/apps/anaconda3/python-3.8/lib/python3.8/site-packages/sklearn/metrics/_classification.py:1318: UndefinedMetricWarning: Precision and F-score are ill-defined and being set to 0.0 in labels with no predicted samples. Use `zero_division` parameter to control this behavior.\n",
      "  _warn_prf(average, modifier, msg_start, len(result))\n",
      "/project/dsi/apps/anaconda3/python-3.8/lib/python3.8/site-packages/sklearn/metrics/_classification.py:1318: UndefinedMetricWarning: Precision and F-score are ill-defined and being set to 0.0 in labels with no predicted samples. Use `zero_division` parameter to control this behavior.\n",
      "  _warn_prf(average, modifier, msg_start, len(result))\n"
     ]
    }
   ],
   "source": [
    "model1 = MLPClassifier(hidden_layer_sizes=(100, 100), \n",
    "                       activation='tanh',\n",
    "                       solver='lbfgs',\n",
    "                       max_iter=100,\n",
    "                       )\n",
    "model1.fit(X_train, y_train)\n",
    "predictions = model1.predict(X_test)\n",
    "print(\" ++++ Detailed classification report for the selected model ++++ \" )\n",
    "print(\"Algorithm %s \" % model1)\n",
    "print(\"This model was trained and tuned on the development set using CV.\")\n",
    "print(\"The following results are computed on the separate test set:\")\n",
    "\n",
    "predictions = model1.predict(X_test)\n",
    "cm = confusion_matrix(y_test, predictions)\n",
    "df_cm = pandas.DataFrame(cm, columns=numpy.unique(y_test), index = numpy.unique(y_test))\n",
    "sns.heatmap(df_cm, square=True, annot=True, fmt='d', cbar=False )\n",
    "pl.xlabel('predicted')\n",
    "pl.ylabel('true')\n",
    "pl.show()\n",
    "\n",
    "print('\\n clasification report:\\n', classification_report(y_test, predictions))\n",
    "print('\\n')        \n",
    "print('done \\n')"
   ]
  },
  {
   "cell_type": "raw",
   "id": "bd7a9de7-c596-483d-9b4d-d0de5472cc1e",
   "metadata": {},
   "source": [
    "The accuracy of prediction is all near the center numbers such as 5,6, or 7. There is little to no percision on the lower seen numbers\n",
    "such as 3,4,8, or 9. The accuracy is around .50."
   ]
  },
  {
   "cell_type": "code",
   "execution_count": 20,
   "id": "b9625108-bda7-416d-a009-52e2d7210a77",
   "metadata": {},
   "outputs": [
    {
     "name": "stdout",
     "output_type": "stream",
     "text": [
      "Detailed classification report:\n",
      "\n",
      "\n",
      "              precision    recall  f1-score   support\n",
      "\n",
      "           3       0.00      0.00      0.00         4\n",
      "           4       0.67      0.07      0.13        27\n",
      "           5       0.47      0.55      0.51       264\n",
      "           6       0.55      0.64      0.59       471\n",
      "           7       0.53      0.35      0.42       175\n",
      "           8       0.25      0.03      0.05        38\n",
      "           9       0.00      0.00      0.00         1\n",
      "\n",
      "    accuracy                           0.52       980\n",
      "   macro avg       0.35      0.24      0.24       980\n",
      "weighted avg       0.51      0.52      0.50       980\n",
      "\n",
      "done \n",
      "\n"
     ]
    },
    {
     "name": "stderr",
     "output_type": "stream",
     "text": [
      "/project/dsi/apps/anaconda3/python-3.8/lib/python3.8/site-packages/sklearn/metrics/_classification.py:1318: UndefinedMetricWarning: Precision and F-score are ill-defined and being set to 0.0 in labels with no predicted samples. Use `zero_division` parameter to control this behavior.\n",
      "  _warn_prf(average, modifier, msg_start, len(result))\n",
      "/project/dsi/apps/anaconda3/python-3.8/lib/python3.8/site-packages/sklearn/metrics/_classification.py:1318: UndefinedMetricWarning: Precision and F-score are ill-defined and being set to 0.0 in labels with no predicted samples. Use `zero_division` parameter to control this behavior.\n",
      "  _warn_prf(average, modifier, msg_start, len(result))\n",
      "/project/dsi/apps/anaconda3/python-3.8/lib/python3.8/site-packages/sklearn/metrics/_classification.py:1318: UndefinedMetricWarning: Precision and F-score are ill-defined and being set to 0.0 in labels with no predicted samples. Use `zero_division` parameter to control this behavior.\n",
      "  _warn_prf(average, modifier, msg_start, len(result))\n"
     ]
    }
   ],
   "source": [
    "#Comparison of DT model to scaled model\n",
    "\n",
    "scaled_DT = make_pipeline( MinMaxScaler(), DecisionTreeClassifier(criterion='gini', max_depth=8 ) )  \n",
    "scaled_DT.fit(X_train, y_train)\n",
    "print(\"Detailed classification report:\")\n",
    "print('\\n')\n",
    "y_true, y_pred = y_test, scaled_DT.predict(X_test)\n",
    "print(classification_report(y_true, y_pred))\n",
    "print('done \\n')"
   ]
  },
  {
   "cell_type": "raw",
   "id": "643047b2-dda3-4b2a-9598-618f4f343030",
   "metadata": {},
   "source": [
    "The results are very similar as the MLP model, both models really struggle with the lesser known outputs such as 3,4,8,9, \n",
    "but the Pipelined DT model does have some accuracy at the 3 and 8 outputs compared to MLP model of a 0 percision for the respective numbers. "
   ]
  }
 ],
 "metadata": {
  "kernelspec": {
   "display_name": "Python 3.8",
   "language": "python",
   "name": "python3.8"
  },
  "language_info": {
   "codemirror_mode": {
    "name": "ipython",
    "version": 3
   },
   "file_extension": ".py",
   "mimetype": "text/x-python",
   "name": "python",
   "nbconvert_exporter": "python",
   "pygments_lexer": "ipython3",
   "version": "3.8.13"
  }
 },
 "nbformat": 4,
 "nbformat_minor": 5
}
